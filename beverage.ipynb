{
 "cells": [
  {
   "cell_type": "code",
   "execution_count": 1,
   "id": "229925a0-c3e5-4802-8071-a33e9ca44ad0",
   "metadata": {},
   "outputs": [],
   "source": [
    "import numpy as np\n",
    "import pandas as pd\n"
   ]
  },
  {
   "cell_type": "code",
   "execution_count": 2,
   "id": "97357ff5-7642-47b4-bcbd-1eef8cf1cbbf",
   "metadata": {},
   "outputs": [
    {
     "data": {
      "text/plain": [
       "'1.4.2'"
      ]
     },
     "execution_count": 2,
     "metadata": {},
     "output_type": "execute_result"
    }
   ],
   "source": [
    "pd.__version__"
   ]
  },
  {
   "cell_type": "code",
   "execution_count": 3,
   "id": "6ab93d12-2dc4-4de3-91df-02a6aadc3e5b",
   "metadata": {},
   "outputs": [
    {
     "name": "stderr",
     "output_type": "stream",
     "text": [
      "C:\\Users\\ininl\\AppData\\Local\\Temp\\ipykernel_2424\\665042276.py:3: DtypeWarning: Columns (0) have mixed types. Specify dtype option on import or set low_memory=False.\n",
      "  restaurant = pd.read_csv('data/商業登記_餐館業.csv')\n"
     ]
    }
   ],
   "source": [
    "# 飲料業整理\n",
    "close1310_2204 = pd.read_csv('../data/close1310_2204.csv')\n",
    "beverage = pd.read_csv('../data/飲料店業.csv')"
   ]
  },
  {
   "cell_type": "code",
   "execution_count": 11,
   "id": "055f40b7-c814-4d7d-a9c8-c312335361fa",
   "metadata": {},
   "outputs": [
    {
     "name": "stdout",
     "output_type": "stream",
     "text": [
      "<class 'pandas.core.frame.DataFrame'>\n",
      "Int64Index: 26759 entries, 0 to 26758\n",
      "Data columns (total 10 columns):\n",
      " #   Column  Non-Null Count  Dtype         \n",
      "---  ------  --------------  -----         \n",
      " 0   統一編號    26759 non-null  object        \n",
      " 1   縣市名稱    26757 non-null  object        \n",
      " 2   商業名稱_x  26759 non-null  object        \n",
      " 3   商業所在地   26759 non-null  object        \n",
      " 4   資本額     26759 non-null  object        \n",
      " 5   組織型態    26759 non-null  object        \n",
      " 6   變更日期    26759 non-null  datetime64[ns]\n",
      " 7   商業名稱_y  26759 non-null  object        \n",
      " 8   商業地址    26759 non-null  object        \n",
      " 9   登記狀態    26759 non-null  object        \n",
      "dtypes: datetime64[ns](1), object(9)\n",
      "memory usage: 2.2+ MB\n"
     ]
    }
   ],
   "source": [
    "# 合併兩資料取交集\n",
    "beverage = pd.merge(close_1310_2204,drinks,on='統一編號')\n",
    "beverage.info()"
   ]
  },
  {
   "cell_type": "code",
   "execution_count": 12,
   "id": "ee607f70-e361-4efb-80a5-012fec6536d3",
   "metadata": {},
   "outputs": [],
   "source": [
    "# 確認欄位相同\n",
    "beverage_dif=beverage.query('商業名稱_x != 商業名稱_y | 商業所在地 != 商業地址')\n"
   ]
  },
  {
   "cell_type": "code",
   "execution_count": 14,
   "id": "7cc4e523-2c1c-45aa-901c-8ac40ff70390",
   "metadata": {},
   "outputs": [],
   "source": [
    "# 欄位相同\n",
    "beverage=beverage.query('商業名稱_x == 商業名稱_y & 商業所在地 == 商業地址')\n",
    "\n",
    "# 去除重複欄位\n",
    "beverage.drop(['商業名稱_y','商業所在地'],axis=1,inplace=True)"
   ]
  },
  {
   "cell_type": "code",
   "execution_count": 15,
   "id": "888b8a87-6d87-47f1-9095-2e9c4e5d568b",
   "metadata": {},
   "outputs": [
    {
     "data": {
      "text/html": [
       "<div>\n",
       "<style scoped>\n",
       "    .dataframe tbody tr th:only-of-type {\n",
       "        vertical-align: middle;\n",
       "    }\n",
       "\n",
       "    .dataframe tbody tr th {\n",
       "        vertical-align: top;\n",
       "    }\n",
       "\n",
       "    .dataframe thead th {\n",
       "        text-align: right;\n",
       "    }\n",
       "</style>\n",
       "<table border=\"1\" class=\"dataframe\">\n",
       "  <thead>\n",
       "    <tr style=\"text-align: right;\">\n",
       "      <th></th>\n",
       "      <th>統一編號</th>\n",
       "      <th>縣市名稱</th>\n",
       "      <th>商店名稱</th>\n",
       "      <th>資本額</th>\n",
       "      <th>組織型態</th>\n",
       "      <th>變更日期</th>\n",
       "      <th>商業地址</th>\n",
       "      <th>登記狀態</th>\n",
       "    </tr>\n",
       "  </thead>\n",
       "  <tbody>\n",
       "    <tr>\n",
       "      <th>0</th>\n",
       "      <td>10386741</td>\n",
       "      <td>臺北市</td>\n",
       "      <td>角窗小吃店</td>\n",
       "      <td>200000</td>\n",
       "      <td>獨資</td>\n",
       "      <td>2013-11-05</td>\n",
       "      <td>臺北市信義區基隆路1段11巷10弄30號</td>\n",
       "      <td>歇業／撤銷</td>\n",
       "    </tr>\n",
       "    <tr>\n",
       "      <th>1</th>\n",
       "      <td>13842265</td>\n",
       "      <td>臺北市</td>\n",
       "      <td>三采津店</td>\n",
       "      <td>100000</td>\n",
       "      <td>獨資</td>\n",
       "      <td>2013-11-19</td>\n",
       "      <td>臺北市大同區太原路154之10號1樓</td>\n",
       "      <td>歇業／撤銷</td>\n",
       "    </tr>\n",
       "    <tr>\n",
       "      <th>2</th>\n",
       "      <td>17742267</td>\n",
       "      <td>臺北市</td>\n",
       "      <td>銀寶商行</td>\n",
       "      <td>200000</td>\n",
       "      <td>合夥</td>\n",
       "      <td>2013-11-27</td>\n",
       "      <td>臺北市中正區市民大道1段100號地下1層、鄭州路地下街商場輕食2區009</td>\n",
       "      <td>歇業／撤銷</td>\n",
       "    </tr>\n",
       "    <tr>\n",
       "      <th>3</th>\n",
       "      <td>18385739</td>\n",
       "      <td>臺北市</td>\n",
       "      <td>藍天舞場</td>\n",
       "      <td>200000</td>\n",
       "      <td>獨資</td>\n",
       "      <td>2013-11-07</td>\n",
       "      <td>臺北市大安區復興南路2段208號地下1樓</td>\n",
       "      <td>歇業／撤銷</td>\n",
       "    </tr>\n",
       "    <tr>\n",
       "      <th>4</th>\n",
       "      <td>25561577</td>\n",
       "      <td>臺北市</td>\n",
       "      <td>柏元小吃店</td>\n",
       "      <td>200000</td>\n",
       "      <td>獨資</td>\n",
       "      <td>2013-11-01</td>\n",
       "      <td>臺北市中正區懷寧街39號</td>\n",
       "      <td>歇業／撤銷</td>\n",
       "    </tr>\n",
       "  </tbody>\n",
       "</table>\n",
       "</div>"
      ],
      "text/plain": [
       "       統一編號 縣市名稱   商店名稱     資本額 組織型態       變更日期  \\\n",
       "0  10386741  臺北市  角窗小吃店  200000   獨資 2013-11-05   \n",
       "1  13842265  臺北市   三采津店  100000   獨資 2013-11-19   \n",
       "2  17742267  臺北市   銀寶商行  200000   合夥 2013-11-27   \n",
       "3  18385739  臺北市   藍天舞場  200000   獨資 2013-11-07   \n",
       "4  25561577  臺北市  柏元小吃店  200000   獨資 2013-11-01   \n",
       "\n",
       "                                   商業地址   登記狀態  \n",
       "0                  臺北市信義區基隆路1段11巷10弄30號  歇業／撤銷  \n",
       "1                    臺北市大同區太原路154之10號1樓  歇業／撤銷  \n",
       "2  臺北市中正區市民大道1段100號地下1層、鄭州路地下街商場輕食2區009  歇業／撤銷  \n",
       "3                  臺北市大安區復興南路2段208號地下1樓  歇業／撤銷  \n",
       "4                          臺北市中正區懷寧街39號  歇業／撤銷  "
      ]
     },
     "execution_count": 15,
     "metadata": {},
     "output_type": "execute_result"
    }
   ],
   "source": [
    "# 欄位重新命名\n",
    "beverage.rename(columns={'商業名稱_x':'商店名稱'},inplace=True)\n",
    "\n",
    "beverage.head()"
   ]
  },
  {
   "cell_type": "code",
   "execution_count": 20,
   "id": "984db5f2-8636-4e80-86e0-e32fd936f9ae",
   "metadata": {},
   "outputs": [],
   "source": [
    "# 飲料業存檔\n",
    "beverage.to_csv('gooddata/beverage.csv',encoding='utf_8_sig', index=False)"
   ]
  },
  {
   "cell_type": "code",
   "execution_count": 21,
   "id": "5cf2841d-42f5-4367-9be4-2b2a7f6d870b",
   "metadata": {},
   "outputs": [
    {
     "name": "stdout",
     "output_type": "stream",
     "text": [
      "<class 'pandas.core.frame.DataFrame'>\n",
      "Int64Index: 18839 entries, 0 to 19450\n",
      "Data columns (total 8 columns):\n",
      " #   Column  Non-Null Count  Dtype         \n",
      "---  ------  --------------  -----         \n",
      " 0   統一編號    18839 non-null  object        \n",
      " 1   縣市名稱    18838 non-null  object        \n",
      " 2   商店名稱    18839 non-null  object        \n",
      " 3   資本額     18839 non-null  object        \n",
      " 4   組織型態    18839 non-null  object        \n",
      " 5   變更日期    18839 non-null  datetime64[ns]\n",
      " 6   商業地址    18839 non-null  object        \n",
      " 7   登記狀態    18839 non-null  object        \n",
      "dtypes: datetime64[ns](1), object(7)\n",
      "memory usage: 1.3+ MB\n"
     ]
    }
   ],
   "source": [
    "# 疫情前\n",
    "#beve_bf2020=beverage.query('變更日期 < datetime(2020,1,1)')\n",
    "#beve_bf2020.info()"
   ]
  },
  {
   "cell_type": "code",
   "execution_count": 22,
   "id": "5e0b7cd8-f1b8-497f-b5ac-04e3c26dca4b",
   "metadata": {},
   "outputs": [
    {
     "name": "stdout",
     "output_type": "stream",
     "text": [
      "<class 'pandas.core.frame.DataFrame'>\n",
      "Int64Index: 7219 entries, 13238 to 26758\n",
      "Data columns (total 8 columns):\n",
      " #   Column  Non-Null Count  Dtype         \n",
      "---  ------  --------------  -----         \n",
      " 0   統一編號    7219 non-null   object        \n",
      " 1   縣市名稱    7219 non-null   object        \n",
      " 2   商店名稱    7219 non-null   object        \n",
      " 3   資本額     7219 non-null   object        \n",
      " 4   組織型態    7219 non-null   object        \n",
      " 5   變更日期    7219 non-null   datetime64[ns]\n",
      " 6   商業地址    7219 non-null   object        \n",
      " 7   登記狀態    7219 non-null   object        \n",
      "dtypes: datetime64[ns](1), object(7)\n",
      "memory usage: 507.6+ KB\n"
     ]
    }
   ],
   "source": [
    "# 疫情後\n",
    "#beve_af2020=beverage.query('變更日期 > datetime(2020,1,1)')\n",
    "#beve_af2020.info()\n"
   ]
  },
  {
   "cell_type": "code",
   "execution_count": 23,
   "id": "dd192f2c-7a3e-4490-92b2-60e035c060c2",
   "metadata": {},
   "outputs": [],
   "source": [
    "# 存檔\n",
    "#beve_bf2020.to_csv('gooddata/beve_before2020.csv',encoding='utf_8_sig',index=False)\n",
    "#beve_af2020.to_csv('gooddata/beve_after2020.csv',encoding='utf_8_sig',index=False)"
   ]
  },
  {
   "cell_type": "code",
   "execution_count": null,
   "id": "d440e50e-7b14-4718-808d-db8f51bc1d79",
   "metadata": {},
   "outputs": [],
   "source": []
  }
 ],
 "metadata": {
  "kernelspec": {
   "display_name": "Python 3 (ipykernel)",
   "language": "python",
   "name": "python3"
  },
  "language_info": {
   "codemirror_mode": {
    "name": "ipython",
    "version": 3
   },
   "file_extension": ".py",
   "mimetype": "text/x-python",
   "name": "python",
   "nbconvert_exporter": "python",
   "pygments_lexer": "ipython3",
   "version": "3.9.11"
  }
 },
 "nbformat": 4,
 "nbformat_minor": 5
}
