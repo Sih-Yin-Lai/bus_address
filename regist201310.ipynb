{
 "cells": [
  {
   "cell_type": "code",
   "execution_count": 1,
   "id": "7b0ef49c-9e27-44db-92f6-a2a91a5f8630",
   "metadata": {},
   "outputs": [],
   "source": [
    "import numpy as np\n",
    "import pandas as pd\n",
    "import os"
   ]
  },
  {
   "cell_type": "code",
   "execution_count": 2,
   "id": "62b366e6-782f-4547-bcfe-73b4b84ff194",
   "metadata": {},
   "outputs": [
    {
     "data": {
      "text/plain": [
       "'1.22.4'"
      ]
     },
     "execution_count": 2,
     "metadata": {},
     "output_type": "execute_result"
    }
   ],
   "source": [
    "np.__version__"
   ]
  },
  {
   "cell_type": "code",
   "execution_count": 3,
   "id": "db3c88f5-788c-4e45-8941-3202b0cd17a9",
   "metadata": {},
   "outputs": [
    {
     "data": {
      "text/plain": [
       "'1.4.2'"
      ]
     },
     "execution_count": 3,
     "metadata": {},
     "output_type": "execute_result"
    }
   ],
   "source": [
    "pd.__version__"
   ]
  },
  {
   "cell_type": "code",
   "execution_count": 4,
   "id": "38d08993-6698-4ec4-955b-afe45ab39e09",
   "metadata": {
    "tags": []
   },
   "outputs": [
    {
     "name": "stdout",
     "output_type": "stream",
     "text": [
      "串接完成\n",
      "<class 'pandas.core.frame.DataFrame'>\n",
      "RangeIndex: 465961 entries, 0 to 465960\n",
      "Data columns (total 10 columns):\n",
      " #   Column  Non-Null Count   Dtype \n",
      "---  ------  --------------   ----- \n",
      " 0   序號      465961 non-null  object\n",
      " 1   縣市名稱    465959 non-null  object\n",
      " 2   統一編號    465961 non-null  object\n",
      " 3   商業名稱    465961 non-null  object\n",
      " 4   商業所在地   465961 non-null  object\n",
      " 5   資本額     465820 non-null  object\n",
      " 6   組織型態    465961 non-null  object\n",
      " 7   負責人     465961 non-null  object\n",
      " 8   設立日期    465961 non-null  object\n",
      " 9   核准文號    465961 non-null  object\n",
      "dtypes: object(10)\n",
      "memory usage: 35.6+ MB\n"
     ]
    }
   ],
   "source": [
    "# 取得電腦檔案\n",
    "dir='../registData/'\n",
    "try:\n",
    "    all_files=os.listdir(dir)\n",
    "except  FileNotFoundError as err :\n",
    "    print('沒有此目錄')\n",
    "# all_files\n",
    "\n",
    "# 讀取並串接所有檔案\n",
    "regist_1310_2204=pd.DataFrame(columns=[\"序號\",\"縣市名稱\",\"統一編號\",\"商業名稱\",\"商業所在地\",\"資本額\",\"組織型態\",\"負責人\",\"設立日期\",\"核准文號\"])\n",
    "for files in all_files:\n",
    "    try:        \n",
    "        file_monthly = pd.read_csv('../registData/'+files)\n",
    "        file_monthly['設立日期'].fillna(method='ffill',inplace=True)\n",
    "        regist_1310_2204=pd.concat([regist_1310_2204,file_monthly],ignore_index=True)\n",
    "    except:\n",
    "        print(f'Erro: {files}')\n",
    "        continue\n",
    "\n",
    "print('串接完成')\n",
    "regist_1310_2204.info()\n"
   ]
  },
  {
   "cell_type": "code",
   "execution_count": 5,
   "id": "b93a3ad1-a41a-4505-a8fb-2a9f84ff67d0",
   "metadata": {},
   "outputs": [
    {
     "name": "stdout",
     "output_type": "stream",
     "text": [
      "<class 'pandas.core.frame.DataFrame'>\n",
      "RangeIndex: 465961 entries, 0 to 465960\n",
      "Data columns (total 7 columns):\n",
      " #   Column  Non-Null Count   Dtype \n",
      "---  ------  --------------   ----- \n",
      " 0   統一編號    465961 non-null  object\n",
      " 1   縣市名稱    465959 non-null  object\n",
      " 2   商業名稱    465961 non-null  object\n",
      " 3   商業所在地   465961 non-null  object\n",
      " 4   資本額     465820 non-null  object\n",
      " 5   組織型態    465961 non-null  object\n",
      " 6   設立日期    465961 non-null  object\n",
      "dtypes: object(7)\n",
      "memory usage: 24.9+ MB\n"
     ]
    }
   ],
   "source": [
    "# 整理檔案\n",
    "value = regist_1310_2204['統一編號'].values\n",
    "\n",
    "# 刪除 欄位:序號、核准文號\n",
    "regist_1310_2204.drop(['核准文號','序號','負責人','統一編號'],axis=1,inplace=True)\n",
    "\n",
    "# 將統一編號放到第一欄\n",
    "regist_1310_2204.insert(0,'統一編號',value)\n",
    "\n",
    "# 存檔\n",
    "#close_1310_2204.to_csv('close1310_2204.csv')\n",
    "\n",
    "regist_1310_2204.info()\n",
    "\n"
   ]
  },
  {
   "cell_type": "code",
   "execution_count": 6,
   "id": "65213c84-09b4-4c57-b255-c0bbfe72646b",
   "metadata": {},
   "outputs": [
    {
     "data": {
      "text/html": [
       "<div>\n",
       "<style scoped>\n",
       "    .dataframe tbody tr th:only-of-type {\n",
       "        vertical-align: middle;\n",
       "    }\n",
       "\n",
       "    .dataframe tbody tr th {\n",
       "        vertical-align: top;\n",
       "    }\n",
       "\n",
       "    .dataframe thead th {\n",
       "        text-align: right;\n",
       "    }\n",
       "</style>\n",
       "<table border=\"1\" class=\"dataframe\">\n",
       "  <thead>\n",
       "    <tr style=\"text-align: right;\">\n",
       "      <th></th>\n",
       "      <th>統一編號</th>\n",
       "      <th>縣市名稱</th>\n",
       "      <th>商業名稱</th>\n",
       "      <th>商業所在地</th>\n",
       "      <th>資本額</th>\n",
       "      <th>組織型態</th>\n",
       "      <th>設立日期</th>\n",
       "    </tr>\n",
       "  </thead>\n",
       "  <tbody>\n",
       "    <tr>\n",
       "      <th>0</th>\n",
       "      <td>10671631</td>\n",
       "      <td>臺北市</td>\n",
       "      <td>華寶企業社</td>\n",
       "      <td>臺北市萬華區萬大路387巷29弄15號1樓</td>\n",
       "      <td>2000000.0</td>\n",
       "      <td>獨資</td>\n",
       "      <td>1021024</td>\n",
       "    </tr>\n",
       "    <tr>\n",
       "      <th>1</th>\n",
       "      <td>17273433</td>\n",
       "      <td>臺北市</td>\n",
       "      <td>士林玻璃行</td>\n",
       "      <td>臺北市士林區文林路663號(1樓)</td>\n",
       "      <td>200000.0</td>\n",
       "      <td>獨資</td>\n",
       "      <td>1021003</td>\n",
       "    </tr>\n",
       "    <tr>\n",
       "      <th>2</th>\n",
       "      <td>17540591</td>\n",
       "      <td>臺北市</td>\n",
       "      <td>三子山拉麵屋</td>\n",
       "      <td>臺北市士林區天母東路8巷89號1樓</td>\n",
       "      <td>240000.0</td>\n",
       "      <td>獨資</td>\n",
       "      <td>1021018</td>\n",
       "    </tr>\n",
       "    <tr>\n",
       "      <th>3</th>\n",
       "      <td>17748874</td>\n",
       "      <td>臺北市</td>\n",
       "      <td>二子山拉麵部屋</td>\n",
       "      <td>臺北市士林區中山北路6段738號</td>\n",
       "      <td>240000.0</td>\n",
       "      <td>獨資</td>\n",
       "      <td>1021018</td>\n",
       "    </tr>\n",
       "    <tr>\n",
       "      <th>4</th>\n",
       "      <td>20996588</td>\n",
       "      <td>臺北市</td>\n",
       "      <td>凱新汽車商行</td>\n",
       "      <td>臺北市內湖區民權東路6段296巷76號5樓</td>\n",
       "      <td>8000.0</td>\n",
       "      <td>獨資</td>\n",
       "      <td>1021018</td>\n",
       "    </tr>\n",
       "  </tbody>\n",
       "</table>\n",
       "</div>"
      ],
      "text/plain": [
       "       統一編號 縣市名稱     商業名稱                  商業所在地        資本額 組織型態     設立日期\n",
       "0  10671631  臺北市    華寶企業社  臺北市萬華區萬大路387巷29弄15號1樓  2000000.0   獨資  1021024\n",
       "1  17273433  臺北市    士林玻璃行      臺北市士林區文林路663號(1樓)   200000.0   獨資  1021003\n",
       "2  17540591  臺北市   三子山拉麵屋      臺北市士林區天母東路8巷89號1樓   240000.0   獨資  1021018\n",
       "3  17748874  臺北市  二子山拉麵部屋       臺北市士林區中山北路6段738號   240000.0   獨資  1021018\n",
       "4  20996588  臺北市   凱新汽車商行  臺北市內湖區民權東路6段296巷76號5樓     8000.0   獨資  1021018"
      ]
     },
     "execution_count": 6,
     "metadata": {},
     "output_type": "execute_result"
    }
   ],
   "source": [
    "regist_1310_2204.head()"
   ]
  },
  {
   "cell_type": "code",
   "execution_count": 7,
   "id": "c11fe5f2-e426-4f1a-b8a7-07992574bc93",
   "metadata": {},
   "outputs": [],
   "source": [
    "# 把NAN分割出來\n",
    "#close_date_NAN= close_1310_2204[close_1310_2204[''].isnull()]\n",
    "#close_date_NAN.info()"
   ]
  },
  {
   "cell_type": "code",
   "execution_count": 8,
   "id": "4b787223-79a5-4e78-80ad-821c1d8e5141",
   "metadata": {},
   "outputs": [],
   "source": [
    "# 去除日期NAN\n",
    "#close_1310_2204=close_1310_2204[close_1310_2204[''].notnull()]\n",
    "#close_1310_2204.info()"
   ]
  },
  {
   "cell_type": "code",
   "execution_count": 9,
   "id": "6b6efaf9-d215-43c7-a382-1db78ec46fbe",
   "metadata": {
    "tags": []
   },
   "outputs": [
    {
     "data": {
      "text/html": [
       "<div>\n",
       "<style scoped>\n",
       "    .dataframe tbody tr th:only-of-type {\n",
       "        vertical-align: middle;\n",
       "    }\n",
       "\n",
       "    .dataframe tbody tr th {\n",
       "        vertical-align: top;\n",
       "    }\n",
       "\n",
       "    .dataframe thead th {\n",
       "        text-align: right;\n",
       "    }\n",
       "</style>\n",
       "<table border=\"1\" class=\"dataframe\">\n",
       "  <thead>\n",
       "    <tr style=\"text-align: right;\">\n",
       "      <th></th>\n",
       "      <th>統一編號</th>\n",
       "      <th>縣市名稱</th>\n",
       "      <th>商業名稱</th>\n",
       "      <th>商業所在地</th>\n",
       "      <th>資本額</th>\n",
       "      <th>組織型態</th>\n",
       "      <th>設立日期</th>\n",
       "    </tr>\n",
       "  </thead>\n",
       "  <tbody>\n",
       "    <tr>\n",
       "      <th>465956</th>\n",
       "      <td>87438970</td>\n",
       "      <td>金門縣</td>\n",
       "      <td>阿莫服飾</td>\n",
       "      <td>金門縣烈嶼鄉上岐村青岐43-7號</td>\n",
       "      <td>60000.0</td>\n",
       "      <td>獨資</td>\n",
       "      <td>202204</td>\n",
       "    </tr>\n",
       "    <tr>\n",
       "      <th>465957</th>\n",
       "      <td>87438985</td>\n",
       "      <td>金門縣</td>\n",
       "      <td>金賀養生館</td>\n",
       "      <td>金門縣金城鎮東門里民族路93巷5弄40號</td>\n",
       "      <td>10000.0</td>\n",
       "      <td>獨資</td>\n",
       "      <td>202204</td>\n",
       "    </tr>\n",
       "    <tr>\n",
       "      <th>465958</th>\n",
       "      <td>91612401</td>\n",
       "      <td>連江縣</td>\n",
       "      <td>鳯還巢創思企業社</td>\n",
       "      <td>連江縣南竿鄉清水村153號四樓</td>\n",
       "      <td>300000.0</td>\n",
       "      <td>獨資</td>\n",
       "      <td>202204</td>\n",
       "    </tr>\n",
       "    <tr>\n",
       "      <th>465959</th>\n",
       "      <td>91612417</td>\n",
       "      <td>連江縣</td>\n",
       "      <td>牛角海邊民宿</td>\n",
       "      <td>連江縣南竿鄉復興村121號</td>\n",
       "      <td>200000.0</td>\n",
       "      <td>獨資</td>\n",
       "      <td>202204</td>\n",
       "    </tr>\n",
       "    <tr>\n",
       "      <th>465960</th>\n",
       "      <td>91612423</td>\n",
       "      <td>連江縣</td>\n",
       "      <td>我家民宿</td>\n",
       "      <td>連江縣南竿鄉清水村88-2號</td>\n",
       "      <td>100000.0</td>\n",
       "      <td>獨資</td>\n",
       "      <td>202204</td>\n",
       "    </tr>\n",
       "  </tbody>\n",
       "</table>\n",
       "</div>"
      ],
      "text/plain": [
       "            統一編號 縣市名稱      商業名稱                 商業所在地       資本額 組織型態    設立日期\n",
       "465956  87438970  金門縣      阿莫服飾      金門縣烈嶼鄉上岐村青岐43-7號   60000.0   獨資  202204\n",
       "465957  87438985  金門縣     金賀養生館  金門縣金城鎮東門里民族路93巷5弄40號   10000.0   獨資  202204\n",
       "465958  91612401  連江縣  鳯還巢創思企業社       連江縣南竿鄉清水村153號四樓  300000.0   獨資  202204\n",
       "465959  91612417  連江縣    牛角海邊民宿         連江縣南竿鄉復興村121號  200000.0   獨資  202204\n",
       "465960  91612423  連江縣      我家民宿        連江縣南竿鄉清水村88-2號  100000.0   獨資  202204"
      ]
     },
     "execution_count": 9,
     "metadata": {},
     "output_type": "execute_result"
    }
   ],
   "source": [
    "# 日期欄位處裡\n",
    "# 轉型別,去除小數點 ,換成西元年\n",
    "regist_1310_2204['設立日期']=(regist_1310_2204['設立日期'].astype(int))+19110000\n",
    "\n",
    "# 換成日期型別\n",
    "regist_1310_2204['設立日期']=pd.to_datetime(regist_1310_2204['設立日期'],format='%Y%m%d')\n",
    "\n",
    "# 擷取年月\n",
    "regist_1310_2204['設立日期']=regist_1310_2204['設立日期'].dt.strftime('%Y%m')\n",
    "\n",
    "regist_1310_2204.tail()"
   ]
  },
  {
   "cell_type": "code",
   "execution_count": 10,
   "id": "2f9c0fe8-4af4-443a-8d86-f6dfafe4e1ab",
   "metadata": {},
   "outputs": [
    {
     "data": {
      "text/html": [
       "<div>\n",
       "<style scoped>\n",
       "    .dataframe tbody tr th:only-of-type {\n",
       "        vertical-align: middle;\n",
       "    }\n",
       "\n",
       "    .dataframe tbody tr th {\n",
       "        vertical-align: top;\n",
       "    }\n",
       "\n",
       "    .dataframe thead th {\n",
       "        text-align: right;\n",
       "    }\n",
       "</style>\n",
       "<table border=\"1\" class=\"dataframe\">\n",
       "  <thead>\n",
       "    <tr style=\"text-align: right;\">\n",
       "      <th></th>\n",
       "      <th>統一編號</th>\n",
       "      <th>縣市名稱</th>\n",
       "      <th>商業名稱</th>\n",
       "      <th>商業所在地</th>\n",
       "      <th>資本額</th>\n",
       "      <th>組織型態</th>\n",
       "      <th>設立日期</th>\n",
       "    </tr>\n",
       "  </thead>\n",
       "  <tbody>\n",
       "    <tr>\n",
       "      <th>0</th>\n",
       "      <td>10671631</td>\n",
       "      <td>臺北市</td>\n",
       "      <td>華寶企業社</td>\n",
       "      <td>臺北市萬華區萬大路387巷29弄15號1樓</td>\n",
       "      <td>2000000.0</td>\n",
       "      <td>獨資</td>\n",
       "      <td>201310</td>\n",
       "    </tr>\n",
       "    <tr>\n",
       "      <th>1</th>\n",
       "      <td>17273433</td>\n",
       "      <td>臺北市</td>\n",
       "      <td>士林玻璃行</td>\n",
       "      <td>臺北市士林區文林路663號(1樓)</td>\n",
       "      <td>200000.0</td>\n",
       "      <td>獨資</td>\n",
       "      <td>201310</td>\n",
       "    </tr>\n",
       "    <tr>\n",
       "      <th>2</th>\n",
       "      <td>17540591</td>\n",
       "      <td>臺北市</td>\n",
       "      <td>三子山拉麵屋</td>\n",
       "      <td>臺北市士林區天母東路8巷89號1樓</td>\n",
       "      <td>240000.0</td>\n",
       "      <td>獨資</td>\n",
       "      <td>201310</td>\n",
       "    </tr>\n",
       "    <tr>\n",
       "      <th>3</th>\n",
       "      <td>17748874</td>\n",
       "      <td>臺北市</td>\n",
       "      <td>二子山拉麵部屋</td>\n",
       "      <td>臺北市士林區中山北路6段738號</td>\n",
       "      <td>240000.0</td>\n",
       "      <td>獨資</td>\n",
       "      <td>201310</td>\n",
       "    </tr>\n",
       "    <tr>\n",
       "      <th>4</th>\n",
       "      <td>20996588</td>\n",
       "      <td>臺北市</td>\n",
       "      <td>凱新汽車商行</td>\n",
       "      <td>臺北市內湖區民權東路6段296巷76號5樓</td>\n",
       "      <td>8000.0</td>\n",
       "      <td>獨資</td>\n",
       "      <td>201310</td>\n",
       "    </tr>\n",
       "    <tr>\n",
       "      <th>5</th>\n",
       "      <td>25619634</td>\n",
       "      <td>臺北市</td>\n",
       "      <td>三喜創意媒體科技</td>\n",
       "      <td>臺北市信義區松德路12號6樓</td>\n",
       "      <td>200000.0</td>\n",
       "      <td>獨資</td>\n",
       "      <td>201310</td>\n",
       "    </tr>\n",
       "    <tr>\n",
       "      <th>6</th>\n",
       "      <td>25622357</td>\n",
       "      <td>臺北市</td>\n",
       "      <td>月半新潮式飲料專賣店</td>\n",
       "      <td>臺北市文山區景興路282巷3號1樓</td>\n",
       "      <td>100000.0</td>\n",
       "      <td>獨資</td>\n",
       "      <td>201310</td>\n",
       "    </tr>\n",
       "    <tr>\n",
       "      <th>7</th>\n",
       "      <td>26266010</td>\n",
       "      <td>臺北市</td>\n",
       "      <td>德瑞克商行</td>\n",
       "      <td>臺北市松山區民生東路3段130巷14號</td>\n",
       "      <td>100000.0</td>\n",
       "      <td>獨資</td>\n",
       "      <td>201310</td>\n",
       "    </tr>\n",
       "    <tr>\n",
       "      <th>8</th>\n",
       "      <td>26300707</td>\n",
       "      <td>臺北市</td>\n",
       "      <td>大可商行</td>\n",
       "      <td>臺北市中正區市民大道1段100號地下街20號店鋪</td>\n",
       "      <td>100000.0</td>\n",
       "      <td>獨資</td>\n",
       "      <td>201310</td>\n",
       "    </tr>\n",
       "    <tr>\n",
       "      <th>9</th>\n",
       "      <td>26389934</td>\n",
       "      <td>臺北市</td>\n",
       "      <td>嘉彤精品服飾店</td>\n",
       "      <td>臺北市大安區忠孝東路4段205巷29弄7號1樓</td>\n",
       "      <td>200000.0</td>\n",
       "      <td>獨資</td>\n",
       "      <td>201310</td>\n",
       "    </tr>\n",
       "  </tbody>\n",
       "</table>\n",
       "</div>"
      ],
      "text/plain": [
       "       統一編號 縣市名稱        商業名稱                     商業所在地        資本額 組織型態    設立日期\n",
       "0  10671631  臺北市       華寶企業社     臺北市萬華區萬大路387巷29弄15號1樓  2000000.0   獨資  201310\n",
       "1  17273433  臺北市       士林玻璃行         臺北市士林區文林路663號(1樓)   200000.0   獨資  201310\n",
       "2  17540591  臺北市      三子山拉麵屋         臺北市士林區天母東路8巷89號1樓   240000.0   獨資  201310\n",
       "3  17748874  臺北市     二子山拉麵部屋          臺北市士林區中山北路6段738號   240000.0   獨資  201310\n",
       "4  20996588  臺北市      凱新汽車商行     臺北市內湖區民權東路6段296巷76號5樓     8000.0   獨資  201310\n",
       "5  25619634  臺北市    三喜創意媒體科技            臺北市信義區松德路12號6樓   200000.0   獨資  201310\n",
       "6  25622357  臺北市  月半新潮式飲料專賣店         臺北市文山區景興路282巷3號1樓   100000.0   獨資  201310\n",
       "7  26266010  臺北市       德瑞克商行       臺北市松山區民生東路3段130巷14號   100000.0   獨資  201310\n",
       "8  26300707  臺北市        大可商行  臺北市中正區市民大道1段100號地下街20號店鋪   100000.0   獨資  201310\n",
       "9  26389934  臺北市     嘉彤精品服飾店   臺北市大安區忠孝東路4段205巷29弄7號1樓   200000.0   獨資  201310"
      ]
     },
     "execution_count": 10,
     "metadata": {},
     "output_type": "execute_result"
    }
   ],
   "source": [
    "regist_1310_2204.head(10)"
   ]
  },
  {
   "cell_type": "code",
   "execution_count": 19,
   "id": "2c8814a5-d6ac-4ebf-8743-b74631443474",
   "metadata": {},
   "outputs": [],
   "source": [
    "# 地址不完整\n",
    "regist_1310_2204[regist_1310_2204['縣市名稱'].isnull()].to_csv('../data/regist_city_null.csv'encoding='utf_8_sig', index=False)"
   ]
  },
  {
   "cell_type": "code",
   "execution_count": 22,
   "id": "ba21af5c-9dff-497a-af40-cd6608659506",
   "metadata": {
    "tags": []
   },
   "outputs": [
    {
     "name": "stdout",
     "output_type": "stream",
     "text": [
      "<class 'pandas.core.frame.DataFrame'>\n",
      "Int64Index: 465959 entries, 0 to 465960\n",
      "Data columns (total 7 columns):\n",
      " #   Column  Non-Null Count   Dtype \n",
      "---  ------  --------------   ----- \n",
      " 0   統一編號    465959 non-null  object\n",
      " 1   縣市名稱    465959 non-null  object\n",
      " 2   商業名稱    465959 non-null  object\n",
      " 3   商業所在地   465959 non-null  object\n",
      " 4   資本額     465818 non-null  object\n",
      " 5   組織型態    465959 non-null  object\n",
      " 6   設立日期    465959 non-null  object\n",
      "dtypes: object(7)\n",
      "memory usage: 28.4+ MB\n"
     ]
    }
   ],
   "source": [
    "# 去除不完整的地址資料\n",
    "regist_1310_2204=regist_1310_2204[regist_1310_2204['縣市名稱'].notnull()]\n",
    "regist_1310_2204.info()"
   ]
  },
  {
   "cell_type": "code",
   "execution_count": 23,
   "id": "c82d5b8d-fd17-47b8-a9db-51cdb73b93f5",
   "metadata": {
    "tags": []
   },
   "outputs": [],
   "source": [
    "# 登記資料存檔\n",
    "regist_1310_2204.to_csv('../data/regist1310_2204.csv',encoding='utf_8_sig', index=False)"
   ]
  },
  {
   "cell_type": "code",
   "execution_count": null,
   "id": "44d2e32a-68b9-4c19-ac1c-de098a048939",
   "metadata": {},
   "outputs": [],
   "source": []
  }
 ],
 "metadata": {
  "kernelspec": {
   "display_name": "Python 3 (ipykernel)",
   "language": "python",
   "name": "python3"
  },
  "language_info": {
   "codemirror_mode": {
    "name": "ipython",
    "version": 3
   },
   "file_extension": ".py",
   "mimetype": "text/x-python",
   "name": "python",
   "nbconvert_exporter": "python",
   "pygments_lexer": "ipython3",
   "version": "3.9.11"
  }
 },
 "nbformat": 4,
 "nbformat_minor": 5
}
