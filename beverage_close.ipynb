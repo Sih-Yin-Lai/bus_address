{
 "cells": [
  {
   "cell_type": "code",
   "execution_count": 1,
   "id": "229925a0-c3e5-4802-8071-a33e9ca44ad0",
   "metadata": {},
   "outputs": [],
   "source": [
    "import numpy as np\n",
    "import pandas as pd\n"
   ]
  },
  {
   "cell_type": "code",
   "execution_count": 4,
   "id": "97357ff5-7642-47b4-bcbd-1eef8cf1cbbf",
   "metadata": {},
   "outputs": [
    {
     "data": {
      "text/plain": [
       "'1.4.2'"
      ]
     },
     "execution_count": 4,
     "metadata": {},
     "output_type": "execute_result"
    }
   ],
   "source": [
    "pd.__version__"
   ]
  },
  {
   "cell_type": "code",
   "execution_count": 4,
   "id": "6ab93d12-2dc4-4de3-91df-02a6aadc3e5b",
   "metadata": {},
   "outputs": [],
   "source": [
    "# 飲料業登記整理\n",
    "close1310_2204 = pd.read_csv('../data/close1310_2204.csv')\n",
    "\n",
    "# 與登記合併過的\n",
    "beverage = pd.read_csv('../careerData/regist_beve_before2020.csv')\n"
   ]
  },
  {
   "cell_type": "code",
   "execution_count": 8,
   "id": "0ee41570-5101-439d-90b7-4d2905ac9339",
   "metadata": {},
   "outputs": [
    {
     "data": {
      "text/html": [
       "<div>\n",
       "<style scoped>\n",
       "    .dataframe tbody tr th:only-of-type {\n",
       "        vertical-align: middle;\n",
       "    }\n",
       "\n",
       "    .dataframe tbody tr th {\n",
       "        vertical-align: top;\n",
       "    }\n",
       "\n",
       "    .dataframe thead th {\n",
       "        text-align: right;\n",
       "    }\n",
       "</style>\n",
       "<table border=\"1\" class=\"dataframe\">\n",
       "  <thead>\n",
       "    <tr style=\"text-align: right;\">\n",
       "      <th></th>\n",
       "      <th>統一編號</th>\n",
       "      <th>縣市名稱</th>\n",
       "      <th>商業名稱</th>\n",
       "      <th>商業所在地</th>\n",
       "      <th>資本額</th>\n",
       "      <th>組織型態</th>\n",
       "      <th>歇業日期</th>\n",
       "    </tr>\n",
       "  </thead>\n",
       "  <tbody>\n",
       "    <tr>\n",
       "      <th>0</th>\n",
       "      <td>1077414</td>\n",
       "      <td>臺北市</td>\n",
       "      <td>佳佳銀樓</td>\n",
       "      <td>臺北市中正區衡陽路100號1樓</td>\n",
       "      <td>1600000.0</td>\n",
       "      <td>獨資</td>\n",
       "      <td>201310</td>\n",
       "    </tr>\n",
       "    <tr>\n",
       "      <th>1</th>\n",
       "      <td>1078997</td>\n",
       "      <td>臺北市</td>\n",
       "      <td>昇明電器材料行</td>\n",
       "      <td>臺北市中正區寧波西街104號1樓</td>\n",
       "      <td>5000.0</td>\n",
       "      <td>獨資</td>\n",
       "      <td>201310</td>\n",
       "    </tr>\n",
       "    <tr>\n",
       "      <th>2</th>\n",
       "      <td>1144639</td>\n",
       "      <td>臺北市</td>\n",
       "      <td>正和食品店</td>\n",
       "      <td>臺北市大同區重慶北路3段14號1樓</td>\n",
       "      <td>6000.0</td>\n",
       "      <td>獨資</td>\n",
       "      <td>201310</td>\n",
       "    </tr>\n",
       "    <tr>\n",
       "      <th>3</th>\n",
       "      <td>1305022</td>\n",
       "      <td>臺北市</td>\n",
       "      <td>捷運企業社</td>\n",
       "      <td>臺北市大同區哈密街23巷30號1樓</td>\n",
       "      <td>20000.0</td>\n",
       "      <td>獨資</td>\n",
       "      <td>201310</td>\n",
       "    </tr>\n",
       "    <tr>\n",
       "      <th>4</th>\n",
       "      <td>1450453</td>\n",
       "      <td>臺北市</td>\n",
       "      <td>廣裕號</td>\n",
       "      <td>臺北市萬華區德昌街94巷10號1樓</td>\n",
       "      <td>90000.0</td>\n",
       "      <td>獨資</td>\n",
       "      <td>201310</td>\n",
       "    </tr>\n",
       "  </tbody>\n",
       "</table>\n",
       "</div>"
      ],
      "text/plain": [
       "      統一編號 縣市名稱     商業名稱              商業所在地        資本額 組織型態    歇業日期\n",
       "0  1077414  臺北市     佳佳銀樓    臺北市中正區衡陽路100號1樓  1600000.0   獨資  201310\n",
       "1  1078997  臺北市  昇明電器材料行   臺北市中正區寧波西街104號1樓     5000.0   獨資  201310\n",
       "2  1144639  臺北市    正和食品店  臺北市大同區重慶北路3段14號1樓     6000.0   獨資  201310\n",
       "3  1305022  臺北市    捷運企業社  臺北市大同區哈密街23巷30號1樓    20000.0   獨資  201310\n",
       "4  1450453  臺北市      廣裕號  臺北市萬華區德昌街94巷10號1樓    90000.0   獨資  201310"
      ]
     },
     "execution_count": 8,
     "metadata": {},
     "output_type": "execute_result"
    }
   ],
   "source": [
    "close1310_2204.head()"
   ]
  },
  {
   "cell_type": "code",
   "execution_count": 6,
   "id": "383a8f8b-5b1a-4fcd-825b-d01f0bdfdf50",
   "metadata": {},
   "outputs": [
    {
     "name": "stdout",
     "output_type": "stream",
     "text": [
      "<class 'pandas.core.frame.DataFrame'>\n",
      "RangeIndex: 10501 entries, 0 to 10500\n",
      "Data columns (total 8 columns):\n",
      " #   Column  Non-Null Count  Dtype  \n",
      "---  ------  --------------  -----  \n",
      " 0   統一編號    10501 non-null  object \n",
      " 1   縣市名稱    10501 non-null  object \n",
      " 2   商店名稱    10501 non-null  object \n",
      " 3   資本額     10500 non-null  float64\n",
      " 4   組織型態    10501 non-null  object \n",
      " 5   設立日期    10501 non-null  int64  \n",
      " 6   商業地址    10501 non-null  object \n",
      " 7   登記狀態    10501 non-null  object \n",
      "dtypes: float64(1), int64(1), object(6)\n",
      "memory usage: 656.4+ KB\n"
     ]
    }
   ],
   "source": [
    "beverage['統一編號']=beverage['統一編號'].astype(object)\n",
    "beverage.info()"
   ]
  },
  {
   "cell_type": "code",
   "execution_count": 7,
   "id": "4e9b620a-c1cd-42e5-9eca-5c097b823314",
   "metadata": {},
   "outputs": [
    {
     "data": {
      "text/html": [
       "<div>\n",
       "<style scoped>\n",
       "    .dataframe tbody tr th:only-of-type {\n",
       "        vertical-align: middle;\n",
       "    }\n",
       "\n",
       "    .dataframe tbody tr th {\n",
       "        vertical-align: top;\n",
       "    }\n",
       "\n",
       "    .dataframe thead th {\n",
       "        text-align: right;\n",
       "    }\n",
       "</style>\n",
       "<table border=\"1\" class=\"dataframe\">\n",
       "  <thead>\n",
       "    <tr style=\"text-align: right;\">\n",
       "      <th></th>\n",
       "      <th>統一編號</th>\n",
       "      <th>縣市名稱</th>\n",
       "      <th>商店名稱</th>\n",
       "      <th>資本額</th>\n",
       "      <th>組織型態</th>\n",
       "      <th>設立日期</th>\n",
       "      <th>商業地址</th>\n",
       "      <th>登記狀態</th>\n",
       "    </tr>\n",
       "  </thead>\n",
       "  <tbody>\n",
       "    <tr>\n",
       "      <th>0</th>\n",
       "      <td>17748874</td>\n",
       "      <td>臺北市</td>\n",
       "      <td>二子山拉麵部屋</td>\n",
       "      <td>240000.0</td>\n",
       "      <td>獨資</td>\n",
       "      <td>201310</td>\n",
       "      <td>臺北市士林區中山北路6段738號</td>\n",
       "      <td>核准設立</td>\n",
       "    </tr>\n",
       "    <tr>\n",
       "      <th>1</th>\n",
       "      <td>31963022</td>\n",
       "      <td>臺北市</td>\n",
       "      <td>霖好健康茶行</td>\n",
       "      <td>250000.0</td>\n",
       "      <td>獨資</td>\n",
       "      <td>201310</td>\n",
       "      <td>臺北市文山區羅斯福路5段190之3號1樓</td>\n",
       "      <td>歇業／撤銷</td>\n",
       "    </tr>\n",
       "    <tr>\n",
       "      <th>2</th>\n",
       "      <td>31963249</td>\n",
       "      <td>臺北市</td>\n",
       "      <td>朝元小吃店</td>\n",
       "      <td>100000.0</td>\n",
       "      <td>獨資</td>\n",
       "      <td>201310</td>\n",
       "      <td>臺北市大安區東豐街63號1樓</td>\n",
       "      <td>核准設立</td>\n",
       "    </tr>\n",
       "    <tr>\n",
       "      <th>3</th>\n",
       "      <td>31963347</td>\n",
       "      <td>臺北市</td>\n",
       "      <td>欣鑫飲料店</td>\n",
       "      <td>200000.0</td>\n",
       "      <td>獨資</td>\n",
       "      <td>201310</td>\n",
       "      <td>臺北市中山區伊通街127之3號</td>\n",
       "      <td>歇業／撤銷</td>\n",
       "    </tr>\n",
       "    <tr>\n",
       "      <th>4</th>\n",
       "      <td>31963493</td>\n",
       "      <td>臺北市</td>\n",
       "      <td>美味研究餐館</td>\n",
       "      <td>190000.0</td>\n",
       "      <td>獨資</td>\n",
       "      <td>201310</td>\n",
       "      <td>臺北市文山區景華街92號1樓</td>\n",
       "      <td>歇業／撤銷</td>\n",
       "    </tr>\n",
       "  </tbody>\n",
       "</table>\n",
       "</div>"
      ],
      "text/plain": [
       "       統一編號 縣市名稱     商店名稱       資本額 組織型態    設立日期                  商業地址   登記狀態\n",
       "0  17748874  臺北市  二子山拉麵部屋  240000.0   獨資  201310      臺北市士林區中山北路6段738號   核准設立\n",
       "1  31963022  臺北市   霖好健康茶行  250000.0   獨資  201310  臺北市文山區羅斯福路5段190之3號1樓  歇業／撤銷\n",
       "2  31963249  臺北市    朝元小吃店  100000.0   獨資  201310        臺北市大安區東豐街63號1樓   核准設立\n",
       "3  31963347  臺北市    欣鑫飲料店  200000.0   獨資  201310       臺北市中山區伊通街127之3號  歇業／撤銷\n",
       "4  31963493  臺北市   美味研究餐館  190000.0   獨資  201310        臺北市文山區景華街92號1樓  歇業／撤銷"
      ]
     },
     "execution_count": 7,
     "metadata": {},
     "output_type": "execute_result"
    }
   ],
   "source": [
    "beverage.head()"
   ]
  },
  {
   "cell_type": "code",
   "execution_count": 3,
   "id": "055f40b7-c814-4d7d-a9c8-c312335361fa",
   "metadata": {},
   "outputs": [
    {
     "ename": "NameError",
     "evalue": "name 'beverage' is not defined",
     "output_type": "error",
     "traceback": [
      "\u001b[1;31m---------------------------------------------------------------------------\u001b[0m",
      "\u001b[1;31mNameError\u001b[0m                                 Traceback (most recent call last)",
      "Input \u001b[1;32mIn [3]\u001b[0m, in \u001b[0;36m<cell line: 2>\u001b[1;34m()\u001b[0m\n\u001b[0;32m      1\u001b[0m \u001b[38;5;66;03m# 合併兩資料取交集\u001b[39;00m\n\u001b[1;32m----> 2\u001b[0m beverage \u001b[38;5;241m=\u001b[39m pd\u001b[38;5;241m.\u001b[39mmerge(close1310_2204,\u001b[43mbeverage\u001b[49m,on\u001b[38;5;241m=\u001b[39m\u001b[38;5;124m'\u001b[39m\u001b[38;5;124m統一編號\u001b[39m\u001b[38;5;124m'\u001b[39m)\n\u001b[0;32m      3\u001b[0m beverage\u001b[38;5;241m.\u001b[39minfo()\n",
      "\u001b[1;31mNameError\u001b[0m: name 'beverage' is not defined"
     ]
    }
   ],
   "source": [
    "# 合併兩資料取交集\n",
    "beverage = pd.merge(close1310_2204,beverage,on='統一編號')\n",
    "beverage.info()"
   ]
  },
  {
   "cell_type": "code",
   "execution_count": 33,
   "id": "2cc5b1eb-ac93-4e1d-a636-fda947ee58c2",
   "metadata": {},
   "outputs": [
    {
     "data": {
      "text/html": [
       "<div>\n",
       "<style scoped>\n",
       "    .dataframe tbody tr th:only-of-type {\n",
       "        vertical-align: middle;\n",
       "    }\n",
       "\n",
       "    .dataframe tbody tr th {\n",
       "        vertical-align: top;\n",
       "    }\n",
       "\n",
       "    .dataframe thead th {\n",
       "        text-align: right;\n",
       "    }\n",
       "</style>\n",
       "<table border=\"1\" class=\"dataframe\">\n",
       "  <thead>\n",
       "    <tr style=\"text-align: right;\">\n",
       "      <th></th>\n",
       "      <th>統一編號</th>\n",
       "      <th>縣市名稱_x</th>\n",
       "      <th>商業名稱</th>\n",
       "      <th>商業所在地</th>\n",
       "      <th>資本額_x</th>\n",
       "      <th>組織型態_x</th>\n",
       "      <th>歇業日期</th>\n",
       "      <th>縣市名稱_y</th>\n",
       "      <th>商店名稱</th>\n",
       "      <th>資本額_y</th>\n",
       "      <th>組織型態_y</th>\n",
       "      <th>設立日期</th>\n",
       "      <th>商業地址</th>\n",
       "      <th>登記狀態</th>\n",
       "    </tr>\n",
       "  </thead>\n",
       "  <tbody>\n",
       "  </tbody>\n",
       "</table>\n",
       "</div>"
      ],
      "text/plain": [
       "Empty DataFrame\n",
       "Columns: [統一編號, 縣市名稱_x, 商業名稱, 商業所在地, 資本額_x, 組織型態_x, 歇業日期, 縣市名稱_y, 商店名稱, 資本額_y, 組織型態_y, 設立日期, 商業地址, 登記狀態]\n",
       "Index: []"
      ]
     },
     "execution_count": 33,
     "metadata": {},
     "output_type": "execute_result"
    }
   ],
   "source": [
    "beverage.head()"
   ]
  }
 ],
 "metadata": {
  "kernelspec": {
   "display_name": "Python 3 (ipykernel)",
   "language": "python",
   "name": "python3"
  },
  "language_info": {
   "codemirror_mode": {
    "name": "ipython",
    "version": 3
   },
   "file_extension": ".py",
   "mimetype": "text/x-python",
   "name": "python",
   "nbconvert_exporter": "python",
   "pygments_lexer": "ipython3",
   "version": "3.9.11"
  }
 },
 "nbformat": 4,
 "nbformat_minor": 5
}
