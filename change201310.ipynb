{
 "cells": [
  {
   "cell_type": "code",
   "execution_count": 1,
   "id": "7b0ef49c-9e27-44db-92f6-a2a91a5f8630",
   "metadata": {},
   "outputs": [],
   "source": [
    "import numpy as np\n",
    "import pandas as pd\n",
    "import os"
   ]
  },
  {
   "cell_type": "code",
   "execution_count": 2,
   "id": "62b366e6-782f-4547-bcfe-73b4b84ff194",
   "metadata": {},
   "outputs": [
    {
     "data": {
      "text/plain": [
       "'1.22.4'"
      ]
     },
     "execution_count": 2,
     "metadata": {},
     "output_type": "execute_result"
    }
   ],
   "source": [
    "np.__version__"
   ]
  },
  {
   "cell_type": "code",
   "execution_count": 3,
   "id": "db3c88f5-788c-4e45-8941-3202b0cd17a9",
   "metadata": {},
   "outputs": [
    {
     "data": {
      "text/plain": [
       "'1.4.2'"
      ]
     },
     "execution_count": 3,
     "metadata": {},
     "output_type": "execute_result"
    }
   ],
   "source": [
    "pd.__version__"
   ]
  },
  {
   "cell_type": "code",
   "execution_count": 10,
   "id": "38d08993-6698-4ec4-955b-afe45ab39e09",
   "metadata": {
    "tags": []
   },
   "outputs": [
    {
     "name": "stdout",
     "output_type": "stream",
     "text": [
      "串接完成\n",
      "<class 'pandas.core.frame.DataFrame'>\n",
      "RangeIndex: 409255 entries, 0 to 409254\n",
      "Data columns (total 10 columns):\n",
      " #   Column  Non-Null Count   Dtype \n",
      "---  ------  --------------   ----- \n",
      " 0   序號      409255 non-null  object\n",
      " 1   縣市名稱    409246 non-null  object\n",
      " 2   統一編號    409255 non-null  object\n",
      " 3   商業名稱    409255 non-null  object\n",
      " 4   商業所在地   409255 non-null  object\n",
      " 5   資本額     409202 non-null  object\n",
      " 6   組織型態    409255 non-null  object\n",
      " 7   負責人     409255 non-null  object\n",
      " 8   變更日期    409255 non-null  object\n",
      " 9   核准文號    409255 non-null  object\n",
      "dtypes: object(10)\n",
      "memory usage: 31.2+ MB\n"
     ]
    }
   ],
   "source": [
    "# 取得電腦檔案\n",
    "dir='../changeData/'\n",
    "try:\n",
    "    all_files=os.listdir(dir)\n",
    "except  FileNotFoundError as err :\n",
    "    print('沒有此目錄')\n",
    "# all_files\n",
    "\n",
    "# 讀取並串接所有檔案\n",
    "change_1310_2204=pd.DataFrame(columns=[\"序號\",\"縣市名稱\",\"統一編號\",\"商業名稱\",\"商業所在地\",\"資本額\",\"組織型態\",\"負責人\",\"變更日期\",\"核准文號\"])\n",
    "for files in all_files:\n",
    "    try:        \n",
    "        file_monthly = pd.read_csv('../changeData/'+files)\n",
    "        file_monthly['變更日期'].fillna(method='ffill',inplace=True)\n",
    "        change_1310_2204=pd.concat([change_1310_2204,file_monthly],ignore_index=True)\n",
    "    except:\n",
    "        print(f'Erro: {files}')\n",
    "        continue\n",
    "\n",
    "print('串接完成')\n",
    "change_1310_2204.info()\n"
   ]
  },
  {
   "cell_type": "code",
   "execution_count": 11,
   "id": "b93a3ad1-a41a-4505-a8fb-2a9f84ff67d0",
   "metadata": {},
   "outputs": [
    {
     "name": "stdout",
     "output_type": "stream",
     "text": [
      "<class 'pandas.core.frame.DataFrame'>\n",
      "RangeIndex: 409255 entries, 0 to 409254\n",
      "Data columns (total 7 columns):\n",
      " #   Column  Non-Null Count   Dtype \n",
      "---  ------  --------------   ----- \n",
      " 0   統一編號    409255 non-null  object\n",
      " 1   縣市名稱    409246 non-null  object\n",
      " 2   商業名稱    409255 non-null  object\n",
      " 3   商業所在地   409255 non-null  object\n",
      " 4   資本額     409202 non-null  object\n",
      " 5   組織型態    409255 non-null  object\n",
      " 6   變更日期    409255 non-null  object\n",
      "dtypes: object(7)\n",
      "memory usage: 21.9+ MB\n"
     ]
    }
   ],
   "source": [
    "# 整理檔案\n",
    "value = change_1310_2204['統一編號'].values\n",
    "\n",
    "# 刪除 欄位:序號、核准文號\n",
    "change_1310_2204.drop(['核准文號','序號','負責人','統一編號'],axis=1,inplace=True)\n",
    "\n",
    "# 將統一編號放到第一欄\n",
    "change_1310_2204.insert(0,'統一編號',value)\n",
    "\n",
    "# 存檔\n",
    "#close_1310_2204.to_csv('close1310_2204.csv')\n",
    "\n",
    "change_1310_2204.info()\n",
    "\n"
   ]
  },
  {
   "cell_type": "code",
   "execution_count": 6,
   "id": "c11fe5f2-e426-4f1a-b8a7-07992574bc93",
   "metadata": {},
   "outputs": [],
   "source": [
    "# 把NAN分割出來\n",
    "#close_date_NAN= close_1310_2204[close_1310_2204[''].isnull()]\n",
    "#close_date_NAN.info()"
   ]
  },
  {
   "cell_type": "code",
   "execution_count": 7,
   "id": "4b787223-79a5-4e78-80ad-821c1d8e5141",
   "metadata": {},
   "outputs": [],
   "source": [
    "# 去除日期NAN\n",
    "#close_1310_2204=close_1310_2204[close_1310_2204[''].notnull()]\n",
    "#close_1310_2204.info()"
   ]
  },
  {
   "cell_type": "code",
   "execution_count": 12,
   "id": "6b6efaf9-d215-43c7-a382-1db78ec46fbe",
   "metadata": {
    "tags": []
   },
   "outputs": [
    {
     "data": {
      "text/html": [
       "<div>\n",
       "<style scoped>\n",
       "    .dataframe tbody tr th:only-of-type {\n",
       "        vertical-align: middle;\n",
       "    }\n",
       "\n",
       "    .dataframe tbody tr th {\n",
       "        vertical-align: top;\n",
       "    }\n",
       "\n",
       "    .dataframe thead th {\n",
       "        text-align: right;\n",
       "    }\n",
       "</style>\n",
       "<table border=\"1\" class=\"dataframe\">\n",
       "  <thead>\n",
       "    <tr style=\"text-align: right;\">\n",
       "      <th></th>\n",
       "      <th>統一編號</th>\n",
       "      <th>縣市名稱</th>\n",
       "      <th>商業名稱</th>\n",
       "      <th>商業所在地</th>\n",
       "      <th>資本額</th>\n",
       "      <th>組織型態</th>\n",
       "      <th>變更日期</th>\n",
       "    </tr>\n",
       "  </thead>\n",
       "  <tbody>\n",
       "    <tr>\n",
       "      <th>409250</th>\n",
       "      <td>78746510</td>\n",
       "      <td>連江縣</td>\n",
       "      <td>魚之鄉魚麵行</td>\n",
       "      <td>連江縣北竿鄉塘岐村149號</td>\n",
       "      <td>10000</td>\n",
       "      <td>獨資</td>\n",
       "      <td>202204</td>\n",
       "    </tr>\n",
       "    <tr>\n",
       "      <th>409251</th>\n",
       "      <td>85370159</td>\n",
       "      <td>連江縣</td>\n",
       "      <td>馬祖藍灣景觀餐廳民宿南館</td>\n",
       "      <td>連江縣南竿鄉珠螺村52-1號</td>\n",
       "      <td>100000</td>\n",
       "      <td>獨資</td>\n",
       "      <td>202204</td>\n",
       "    </tr>\n",
       "    <tr>\n",
       "      <th>409252</th>\n",
       "      <td>85372895</td>\n",
       "      <td>連江縣</td>\n",
       "      <td>萬有企業社</td>\n",
       "      <td>連江縣南竿鄉清水村126-6號4樓</td>\n",
       "      <td>200000</td>\n",
       "      <td>獨資</td>\n",
       "      <td>202204</td>\n",
       "    </tr>\n",
       "    <tr>\n",
       "      <th>409253</th>\n",
       "      <td>91160820</td>\n",
       "      <td>連江縣</td>\n",
       "      <td>新生企業社</td>\n",
       "      <td>連江縣南竿鄉清水村151號4樓</td>\n",
       "      <td>240000</td>\n",
       "      <td>獨資</td>\n",
       "      <td>202204</td>\n",
       "    </tr>\n",
       "    <tr>\n",
       "      <th>409254</th>\n",
       "      <td>98992145</td>\n",
       "      <td>連江縣</td>\n",
       "      <td>遊戲民宿</td>\n",
       "      <td>連江縣東引鄉樂華村１６３號</td>\n",
       "      <td>50000</td>\n",
       "      <td>獨資</td>\n",
       "      <td>202204</td>\n",
       "    </tr>\n",
       "  </tbody>\n",
       "</table>\n",
       "</div>"
      ],
      "text/plain": [
       "            統一編號 縣市名稱          商業名稱              商業所在地     資本額 組織型態    變更日期\n",
       "409250  78746510  連江縣        魚之鄉魚麵行      連江縣北竿鄉塘岐村149號   10000   獨資  202204\n",
       "409251  85370159  連江縣  馬祖藍灣景觀餐廳民宿南館     連江縣南竿鄉珠螺村52-1號  100000   獨資  202204\n",
       "409252  85372895  連江縣         萬有企業社  連江縣南竿鄉清水村126-6號4樓  200000   獨資  202204\n",
       "409253  91160820  連江縣         新生企業社    連江縣南竿鄉清水村151號4樓  240000   獨資  202204\n",
       "409254  98992145  連江縣          遊戲民宿      連江縣東引鄉樂華村１６３號   50000   獨資  202204"
      ]
     },
     "execution_count": 12,
     "metadata": {},
     "output_type": "execute_result"
    }
   ],
   "source": [
    "# 日期欄位處裡\n",
    "# 轉型別,去除小數點 ,換成西元年\n",
    "change_1310_2204['變更日期']=(change_1310_2204['變更日期'].astype(int))+19110000\n",
    "\n",
    "# 換成日期型別\n",
    "change_1310_2204['變更日期']=pd.to_datetime(change_1310_2204['變更日期'],format='%Y%m%d')\n",
    "\n",
    "# 擷取年月\n",
    "change_1310_2204['變更日期']=change_1310_2204['變更日期'].dt.strftime('%Y%m')\n",
    "\n",
    "change_1310_2204.tail()"
   ]
  },
  {
   "cell_type": "code",
   "execution_count": 23,
   "id": "b5052614-ea6e-40c1-aa7c-a5b791fd59a0",
   "metadata": {},
   "outputs": [],
   "source": [
    "# 地址不完整\n",
    "change_1310_2204[change_1310_2204['縣市名稱'].isnull()].to_csv('../data/change_city_null.csv',encoding='utf_8_sig', index=False)"
   ]
  },
  {
   "cell_type": "code",
   "execution_count": 24,
   "id": "e94f2370-4ca1-4423-8f37-1a4ac6e16047",
   "metadata": {
    "tags": []
   },
   "outputs": [
    {
     "name": "stdout",
     "output_type": "stream",
     "text": [
      "<class 'pandas.core.frame.DataFrame'>\n",
      "Int64Index: 409246 entries, 0 to 409254\n",
      "Data columns (total 7 columns):\n",
      " #   Column  Non-Null Count   Dtype \n",
      "---  ------  --------------   ----- \n",
      " 0   統一編號    409246 non-null  object\n",
      " 1   縣市名稱    409246 non-null  object\n",
      " 2   商業名稱    409246 non-null  object\n",
      " 3   商業所在地   409246 non-null  object\n",
      " 4   資本額     409193 non-null  object\n",
      " 5   組織型態    409246 non-null  object\n",
      " 6   變更日期    409246 non-null  object\n",
      "dtypes: object(7)\n",
      "memory usage: 25.0+ MB\n"
     ]
    }
   ],
   "source": [
    "# 去除不完整的地址資料\n",
    "change_1310_2204=change_1310_2204[change_1310_2204['縣市名稱'].notnull()]\n",
    "change_1310_2204.info()"
   ]
  },
  {
   "cell_type": "code",
   "execution_count": 25,
   "id": "c82d5b8d-fd17-47b8-a9db-51cdb73b93f5",
   "metadata": {
    "tags": []
   },
   "outputs": [],
   "source": [
    "# 歇業資料存檔\n",
    "change_1310_2204.to_csv('../data/change1310_2204.csv',encoding='utf_8_sig', index=False)"
   ]
  },
  {
   "cell_type": "code",
   "execution_count": null,
   "id": "97011773-2d50-443f-b090-90bf221b27a5",
   "metadata": {},
   "outputs": [],
   "source": []
  }
 ],
 "metadata": {
  "kernelspec": {
   "display_name": "Python 3 (ipykernel)",
   "language": "python",
   "name": "python3"
  },
  "language_info": {
   "codemirror_mode": {
    "name": "ipython",
    "version": 3
   },
   "file_extension": ".py",
   "mimetype": "text/x-python",
   "name": "python",
   "nbconvert_exporter": "python",
   "pygments_lexer": "ipython3",
   "version": "3.9.11"
  }
 },
 "nbformat": 4,
 "nbformat_minor": 5
}
