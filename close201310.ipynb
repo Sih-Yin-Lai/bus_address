{
 "cells": [
  {
   "cell_type": "code",
   "execution_count": 1,
   "id": "7b0ef49c-9e27-44db-92f6-a2a91a5f8630",
   "metadata": {},
   "outputs": [],
   "source": [
    "import numpy as np\n",
    "import pandas as pd\n",
    "import os"
   ]
  },
  {
   "cell_type": "code",
   "execution_count": 2,
   "id": "62b366e6-782f-4547-bcfe-73b4b84ff194",
   "metadata": {},
   "outputs": [
    {
     "data": {
      "text/plain": [
       "'1.22.4'"
      ]
     },
     "execution_count": 2,
     "metadata": {},
     "output_type": "execute_result"
    }
   ],
   "source": [
    "np.__version__"
   ]
  },
  {
   "cell_type": "code",
   "execution_count": 3,
   "id": "db3c88f5-788c-4e45-8941-3202b0cd17a9",
   "metadata": {},
   "outputs": [
    {
     "data": {
      "text/plain": [
       "'1.4.2'"
      ]
     },
     "execution_count": 3,
     "metadata": {},
     "output_type": "execute_result"
    }
   ],
   "source": [
    "pd.__version__"
   ]
  },
  {
   "cell_type": "code",
   "execution_count": 4,
   "id": "38d08993-6698-4ec4-955b-afe45ab39e09",
   "metadata": {
    "tags": []
   },
   "outputs": [
    {
     "name": "stdout",
     "output_type": "stream",
     "text": [
      "串接完成\n",
      "<class 'pandas.core.frame.DataFrame'>\n",
      "RangeIndex: 287519 entries, 0 to 287518\n",
      "Data columns (total 10 columns):\n",
      " #   Column  Non-Null Count   Dtype \n",
      "---  ------  --------------   ----- \n",
      " 0   序號      287519 non-null  object\n",
      " 1   縣市名稱    287501 non-null  object\n",
      " 2   統一編號    287519 non-null  object\n",
      " 3   商業名稱    287519 non-null  object\n",
      " 4   商業所在地   287518 non-null  object\n",
      " 5   資本額     287518 non-null  object\n",
      " 6   組織型態    287516 non-null  object\n",
      " 7   負責人     287519 non-null  object\n",
      " 8   變更日期    287519 non-null  object\n",
      " 9   核准文號    287477 non-null  object\n",
      "dtypes: object(10)\n",
      "memory usage: 21.9+ MB\n"
     ]
    }
   ],
   "source": [
    "# 取得電腦檔案\n",
    "dir='../closedata/'\n",
    "try:\n",
    "    all_files=os.listdir(dir)\n",
    "except  FileNotFoundError as err :\n",
    "    print('沒有此目錄')\n",
    "# all_files\n",
    "\n",
    "# 讀取並串接所有檔案\n",
    "close_1310_2204=pd.DataFrame(columns=[\"序號\",\"縣市名稱\",\"統一編號\",\"商業名稱\",\"商業所在地\",\"資本額\",\"組織型態\",\"負責人\",\"變更日期\",\"核准文號\"])\n",
    "for files in all_files:\n",
    "    try:        \n",
    "        file_monthly = pd.read_csv('../closedata/'+files)\n",
    "        file_monthly['變更日期'].fillna(method='ffill',inplace=True)\n",
    "        close_1310_2204=pd.concat([close_1310_2204,file_monthly],ignore_index=True)\n",
    "    except:\n",
    "        print(f'Erro: {files}')\n",
    "        continue\n",
    "\n",
    "print('串接完成')\n",
    "close_1310_2204.info()\n"
   ]
  },
  {
   "cell_type": "code",
   "execution_count": 5,
   "id": "b93a3ad1-a41a-4505-a8fb-2a9f84ff67d0",
   "metadata": {},
   "outputs": [
    {
     "name": "stdout",
     "output_type": "stream",
     "text": [
      "<class 'pandas.core.frame.DataFrame'>\n",
      "RangeIndex: 287519 entries, 0 to 287518\n",
      "Data columns (total 7 columns):\n",
      " #   Column  Non-Null Count   Dtype \n",
      "---  ------  --------------   ----- \n",
      " 0   統一編號    287519 non-null  object\n",
      " 1   縣市名稱    287501 non-null  object\n",
      " 2   商業名稱    287519 non-null  object\n",
      " 3   商業所在地   287518 non-null  object\n",
      " 4   資本額     287518 non-null  object\n",
      " 5   組織型態    287516 non-null  object\n",
      " 6   變更日期    287519 non-null  object\n",
      "dtypes: object(7)\n",
      "memory usage: 15.4+ MB\n"
     ]
    }
   ],
   "source": [
    "# 整理檔案\n",
    "value = close_1310_2204['統一編號'].values\n",
    "\n",
    "# 刪除 欄位:序號、核准文號\n",
    "close_1310_2204.drop(['核准文號','序號','負責人','統一編號'],axis=1,inplace=True)\n",
    "\n",
    "# 將統一編號放到第一欄\n",
    "close_1310_2204.insert(0,'統一編號',value)\n",
    "\n",
    "# 存檔\n",
    "#close_1310_2204.to_csv('close1310_2204.csv')\n",
    "\n",
    "close_1310_2204.info()\n",
    "\n"
   ]
  },
  {
   "cell_type": "code",
   "execution_count": 6,
   "id": "c11fe5f2-e426-4f1a-b8a7-07992574bc93",
   "metadata": {},
   "outputs": [],
   "source": [
    "# 把NAN分割出來\n",
    "#close_date_NAN= close_1310_2204[close_1310_2204[''].isnull()]\n",
    "#close_date_NAN.info()"
   ]
  },
  {
   "cell_type": "code",
   "execution_count": 7,
   "id": "4b787223-79a5-4e78-80ad-821c1d8e5141",
   "metadata": {},
   "outputs": [],
   "source": [
    "# 去除日期NAN\n",
    "#close_1310_2204=close_1310_2204[close_1310_2204[''].notnull()]\n",
    "#close_1310_2204.info()"
   ]
  },
  {
   "cell_type": "code",
   "execution_count": 8,
   "id": "6b6efaf9-d215-43c7-a382-1db78ec46fbe",
   "metadata": {
    "tags": []
   },
   "outputs": [
    {
     "data": {
      "text/html": [
       "<div>\n",
       "<style scoped>\n",
       "    .dataframe tbody tr th:only-of-type {\n",
       "        vertical-align: middle;\n",
       "    }\n",
       "\n",
       "    .dataframe tbody tr th {\n",
       "        vertical-align: top;\n",
       "    }\n",
       "\n",
       "    .dataframe thead th {\n",
       "        text-align: right;\n",
       "    }\n",
       "</style>\n",
       "<table border=\"1\" class=\"dataframe\">\n",
       "  <thead>\n",
       "    <tr style=\"text-align: right;\">\n",
       "      <th></th>\n",
       "      <th>統一編號</th>\n",
       "      <th>縣市名稱</th>\n",
       "      <th>商業名稱</th>\n",
       "      <th>商業所在地</th>\n",
       "      <th>資本額</th>\n",
       "      <th>組織型態</th>\n",
       "      <th>變更日期</th>\n",
       "    </tr>\n",
       "  </thead>\n",
       "  <tbody>\n",
       "    <tr>\n",
       "      <th>287514</th>\n",
       "      <td>37980619</td>\n",
       "      <td>連江縣</td>\n",
       "      <td>津食堂</td>\n",
       "      <td>連江縣南竿鄉仁愛村48號</td>\n",
       "      <td>100000</td>\n",
       "      <td>獨資</td>\n",
       "      <td>202204</td>\n",
       "    </tr>\n",
       "    <tr>\n",
       "      <th>287515</th>\n",
       "      <td>41158139</td>\n",
       "      <td>連江縣</td>\n",
       "      <td>東旭民宿</td>\n",
       "      <td>連江縣莒光鄉大坪村11號</td>\n",
       "      <td>30000</td>\n",
       "      <td>獨資</td>\n",
       "      <td>202204</td>\n",
       "    </tr>\n",
       "    <tr>\n",
       "      <th>287516</th>\n",
       "      <td>72711486</td>\n",
       "      <td>連江縣</td>\n",
       "      <td>曹祥發美術工作坊</td>\n",
       "      <td>連江縣莒光鄉大坪村106-2號</td>\n",
       "      <td>200000</td>\n",
       "      <td>獨資</td>\n",
       "      <td>202204</td>\n",
       "    </tr>\n",
       "    <tr>\n",
       "      <th>287517</th>\n",
       "      <td>91161145</td>\n",
       "      <td>連江縣</td>\n",
       "      <td>魚之鄉貳店</td>\n",
       "      <td>連江縣北竿鄉塘岐村166號(店鋪2)</td>\n",
       "      <td>10000</td>\n",
       "      <td>獨資</td>\n",
       "      <td>202204</td>\n",
       "    </tr>\n",
       "    <tr>\n",
       "      <th>287518</th>\n",
       "      <td>91612351</td>\n",
       "      <td>連江縣</td>\n",
       "      <td>三軍商行</td>\n",
       "      <td>連江縣南竿鄉仁愛村79號</td>\n",
       "      <td>100000</td>\n",
       "      <td>獨資</td>\n",
       "      <td>202204</td>\n",
       "    </tr>\n",
       "  </tbody>\n",
       "</table>\n",
       "</div>"
      ],
      "text/plain": [
       "            統一編號 縣市名稱      商業名稱               商業所在地     資本額 組織型態    變更日期\n",
       "287514  37980619  連江縣       津食堂        連江縣南竿鄉仁愛村48號  100000   獨資  202204\n",
       "287515  41158139  連江縣      東旭民宿        連江縣莒光鄉大坪村11號   30000   獨資  202204\n",
       "287516  72711486  連江縣  曹祥發美術工作坊     連江縣莒光鄉大坪村106-2號  200000   獨資  202204\n",
       "287517  91161145  連江縣     魚之鄉貳店  連江縣北竿鄉塘岐村166號(店鋪2)   10000   獨資  202204\n",
       "287518  91612351  連江縣      三軍商行        連江縣南竿鄉仁愛村79號  100000   獨資  202204"
      ]
     },
     "execution_count": 8,
     "metadata": {},
     "output_type": "execute_result"
    }
   ],
   "source": [
    "# 日期欄位處裡\n",
    "# 轉型別,去除小數點 ,換成西元年\n",
    "close_1310_2204['變更日期']=(close_1310_2204['變更日期'].astype(int))+19110000\n",
    "\n",
    "# 換成日期型別\n",
    "close_1310_2204['變更日期']=pd.to_datetime(close_1310_2204['變更日期'],format='%Y%m%d')\n",
    "\n",
    "# 擷取年月\n",
    "close_1310_2204['變更日期']=close_1310_2204['變更日期'].dt.strftime('%Y%m')\n",
    "\n",
    "close_1310_2204.tail()"
   ]
  },
  {
   "cell_type": "code",
   "execution_count": 9,
   "id": "23064996-721f-48b5-96e1-eb983af1c095",
   "metadata": {},
   "outputs": [
    {
     "data": {
      "text/html": [
       "<div>\n",
       "<style scoped>\n",
       "    .dataframe tbody tr th:only-of-type {\n",
       "        vertical-align: middle;\n",
       "    }\n",
       "\n",
       "    .dataframe tbody tr th {\n",
       "        vertical-align: top;\n",
       "    }\n",
       "\n",
       "    .dataframe thead th {\n",
       "        text-align: right;\n",
       "    }\n",
       "</style>\n",
       "<table border=\"1\" class=\"dataframe\">\n",
       "  <thead>\n",
       "    <tr style=\"text-align: right;\">\n",
       "      <th></th>\n",
       "      <th>統一編號</th>\n",
       "      <th>縣市名稱</th>\n",
       "      <th>商業名稱</th>\n",
       "      <th>商業所在地</th>\n",
       "      <th>資本額</th>\n",
       "      <th>組織型態</th>\n",
       "      <th>歇業日期</th>\n",
       "    </tr>\n",
       "  </thead>\n",
       "  <tbody>\n",
       "    <tr>\n",
       "      <th>0</th>\n",
       "      <td>1077414</td>\n",
       "      <td>臺北市</td>\n",
       "      <td>佳佳銀樓</td>\n",
       "      <td>臺北市中正區衡陽路100號1樓</td>\n",
       "      <td>1600000</td>\n",
       "      <td>獨資</td>\n",
       "      <td>201310</td>\n",
       "    </tr>\n",
       "    <tr>\n",
       "      <th>1</th>\n",
       "      <td>1078997</td>\n",
       "      <td>臺北市</td>\n",
       "      <td>昇明電器材料行</td>\n",
       "      <td>臺北市中正區寧波西街104號1樓</td>\n",
       "      <td>5000</td>\n",
       "      <td>獨資</td>\n",
       "      <td>201310</td>\n",
       "    </tr>\n",
       "    <tr>\n",
       "      <th>2</th>\n",
       "      <td>1144639</td>\n",
       "      <td>臺北市</td>\n",
       "      <td>正和食品店</td>\n",
       "      <td>臺北市大同區重慶北路3段14號1樓</td>\n",
       "      <td>6000</td>\n",
       "      <td>獨資</td>\n",
       "      <td>201310</td>\n",
       "    </tr>\n",
       "    <tr>\n",
       "      <th>3</th>\n",
       "      <td>1305022</td>\n",
       "      <td>臺北市</td>\n",
       "      <td>捷運企業社</td>\n",
       "      <td>臺北市大同區哈密街23巷30號1樓</td>\n",
       "      <td>20000</td>\n",
       "      <td>獨資</td>\n",
       "      <td>201310</td>\n",
       "    </tr>\n",
       "    <tr>\n",
       "      <th>4</th>\n",
       "      <td>1450453</td>\n",
       "      <td>臺北市</td>\n",
       "      <td>廣裕號</td>\n",
       "      <td>臺北市萬華區德昌街94巷10號1樓</td>\n",
       "      <td>90000</td>\n",
       "      <td>獨資</td>\n",
       "      <td>201310</td>\n",
       "    </tr>\n",
       "    <tr>\n",
       "      <th>5</th>\n",
       "      <td>1579943</td>\n",
       "      <td>臺北市</td>\n",
       "      <td>張祐祥自營計程車</td>\n",
       "      <td>臺北市松山區光復北路120巷6號</td>\n",
       "      <td>30000</td>\n",
       "      <td>獨資</td>\n",
       "      <td>201310</td>\n",
       "    </tr>\n",
       "    <tr>\n",
       "      <th>6</th>\n",
       "      <td>1618559</td>\n",
       "      <td>臺北市</td>\n",
       "      <td>健康皮鞋店</td>\n",
       "      <td>臺北市信義區莊敬路325巷26號1樓</td>\n",
       "      <td>45000</td>\n",
       "      <td>獨資</td>\n",
       "      <td>201310</td>\n",
       "    </tr>\n",
       "    <tr>\n",
       "      <th>7</th>\n",
       "      <td>1621338</td>\n",
       "      <td>臺北市</td>\n",
       "      <td>正銘文具行</td>\n",
       "      <td>臺北市信義區吳興街156巷45號1樓</td>\n",
       "      <td>50000</td>\n",
       "      <td>獨資</td>\n",
       "      <td>201310</td>\n",
       "    </tr>\n",
       "    <tr>\n",
       "      <th>8</th>\n",
       "      <td>1672151</td>\n",
       "      <td>臺北市</td>\n",
       "      <td>三奇汽車電機行</td>\n",
       "      <td>臺北市南港區南港路2段240號1樓</td>\n",
       "      <td>50000</td>\n",
       "      <td>獨資</td>\n",
       "      <td>201310</td>\n",
       "    </tr>\n",
       "    <tr>\n",
       "      <th>9</th>\n",
       "      <td>1706976</td>\n",
       "      <td>臺北市</td>\n",
       "      <td>權威車業行</td>\n",
       "      <td>臺北市文山區羅斯福路6段307號</td>\n",
       "      <td>20000</td>\n",
       "      <td>獨資</td>\n",
       "      <td>201310</td>\n",
       "    </tr>\n",
       "  </tbody>\n",
       "</table>\n",
       "</div>"
      ],
      "text/plain": [
       "      統一編號 縣市名稱      商業名稱               商業所在地      資本額 組織型態    歇業日期\n",
       "0  1077414  臺北市      佳佳銀樓     臺北市中正區衡陽路100號1樓  1600000   獨資  201310\n",
       "1  1078997  臺北市   昇明電器材料行    臺北市中正區寧波西街104號1樓     5000   獨資  201310\n",
       "2  1144639  臺北市     正和食品店   臺北市大同區重慶北路3段14號1樓     6000   獨資  201310\n",
       "3  1305022  臺北市     捷運企業社   臺北市大同區哈密街23巷30號1樓    20000   獨資  201310\n",
       "4  1450453  臺北市       廣裕號   臺北市萬華區德昌街94巷10號1樓    90000   獨資  201310\n",
       "5  1579943  臺北市  張祐祥自營計程車    臺北市松山區光復北路120巷6號    30000   獨資  201310\n",
       "6  1618559  臺北市     健康皮鞋店  臺北市信義區莊敬路325巷26號1樓    45000   獨資  201310\n",
       "7  1621338  臺北市     正銘文具行  臺北市信義區吳興街156巷45號1樓    50000   獨資  201310\n",
       "8  1672151  臺北市   三奇汽車電機行   臺北市南港區南港路2段240號1樓    50000   獨資  201310\n",
       "9  1706976  臺北市     權威車業行    臺北市文山區羅斯福路6段307號    20000   獨資  201310"
      ]
     },
     "execution_count": 9,
     "metadata": {},
     "output_type": "execute_result"
    }
   ],
   "source": [
    "# 欄位重新命名\n",
    "close_1310_2204.rename(columns={'變更日期':'歇業日期'},inplace=True)\n",
    "close_1310_2204.head(10)"
   ]
  },
  {
   "cell_type": "code",
   "execution_count": 12,
   "id": "b86f77da-53cc-4e5f-b7c9-cf59acf21f18",
   "metadata": {},
   "outputs": [],
   "source": [
    "# 地址不完整\n",
    "close_1310_2204[close_1310_2204['縣市名稱'].isnull()].to_csv('../data/close_city_null.csv',encoding='utf_8_sig', index=False)"
   ]
  },
  {
   "cell_type": "code",
   "execution_count": 13,
   "id": "092a7953-126d-4f20-b2dc-1d522ed85ddf",
   "metadata": {
    "tags": []
   },
   "outputs": [
    {
     "name": "stdout",
     "output_type": "stream",
     "text": [
      "<class 'pandas.core.frame.DataFrame'>\n",
      "Int64Index: 287501 entries, 0 to 287518\n",
      "Data columns (total 7 columns):\n",
      " #   Column  Non-Null Count   Dtype \n",
      "---  ------  --------------   ----- \n",
      " 0   統一編號    287501 non-null  object\n",
      " 1   縣市名稱    287501 non-null  object\n",
      " 2   商業名稱    287501 non-null  object\n",
      " 3   商業所在地   287501 non-null  object\n",
      " 4   資本額     287500 non-null  object\n",
      " 5   組織型態    287498 non-null  object\n",
      " 6   歇業日期    287501 non-null  object\n",
      "dtypes: object(7)\n",
      "memory usage: 17.5+ MB\n"
     ]
    }
   ],
   "source": [
    "# 去除不完整的地址資料\n",
    "close_1310_2204=close_1310_2204[close_1310_2204['縣市名稱'].notnull()]\n",
    "close_1310_2204.info()"
   ]
  },
  {
   "cell_type": "code",
   "execution_count": 14,
   "id": "c82d5b8d-fd17-47b8-a9db-51cdb73b93f5",
   "metadata": {
    "tags": []
   },
   "outputs": [],
   "source": [
    "# 歇業資料存檔\n",
    "close_1310_2204.to_csv('../data/close1310_2204.csv',encoding='utf_8_sig', index=False)"
   ]
  },
  {
   "cell_type": "code",
   "execution_count": null,
   "id": "9a7cc461-5f65-4527-af1a-c0561de10d43",
   "metadata": {},
   "outputs": [],
   "source": []
  }
 ],
 "metadata": {
  "kernelspec": {
   "display_name": "Python 3 (ipykernel)",
   "language": "python",
   "name": "python3"
  },
  "language_info": {
   "codemirror_mode": {
    "name": "ipython",
    "version": 3
   },
   "file_extension": ".py",
   "mimetype": "text/x-python",
   "name": "python",
   "nbconvert_exporter": "python",
   "pygments_lexer": "ipython3",
   "version": "3.9.11"
  }
 },
 "nbformat": 4,
 "nbformat_minor": 5
}
