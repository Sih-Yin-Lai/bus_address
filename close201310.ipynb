{
 "cells": [
  {
   "cell_type": "code",
   "execution_count": 1,
   "id": "7b0ef49c-9e27-44db-92f6-a2a91a5f8630",
   "metadata": {},
   "outputs": [],
   "source": [
    "import numpy as np\n",
    "import pandas as pd\n",
    "import os"
   ]
  },
  {
   "cell_type": "code",
   "execution_count": 2,
   "id": "62b366e6-782f-4547-bcfe-73b4b84ff194",
   "metadata": {},
   "outputs": [
    {
     "data": {
      "text/plain": [
       "'1.22.3'"
      ]
     },
     "execution_count": 2,
     "metadata": {},
     "output_type": "execute_result"
    }
   ],
   "source": [
    "np.__version__"
   ]
  },
  {
   "cell_type": "code",
   "execution_count": 3,
   "id": "db3c88f5-788c-4e45-8941-3202b0cd17a9",
   "metadata": {},
   "outputs": [
    {
     "data": {
      "text/plain": [
       "'1.4.2'"
      ]
     },
     "execution_count": 3,
     "metadata": {},
     "output_type": "execute_result"
    }
   ],
   "source": [
    "pd.__version__"
   ]
  },
  {
   "cell_type": "code",
   "execution_count": 4,
   "id": "38d08993-6698-4ec4-955b-afe45ab39e09",
   "metadata": {
    "tags": []
   },
   "outputs": [
    {
     "name": "stdout",
     "output_type": "stream",
     "text": [
      "串接完成\n",
      "<class 'pandas.core.frame.DataFrame'>\n",
      "RangeIndex: 287519 entries, 0 to 287518\n",
      "Data columns (total 10 columns):\n",
      " #   Column  Non-Null Count   Dtype \n",
      "---  ------  --------------   ----- \n",
      " 0   序號      287519 non-null  object\n",
      " 1   縣市名稱    287501 non-null  object\n",
      " 2   統一編號    287519 non-null  object\n",
      " 3   商業名稱    287519 non-null  object\n",
      " 4   商業所在地   287518 non-null  object\n",
      " 5   資本額     287518 non-null  object\n",
      " 6   組織型態    287516 non-null  object\n",
      " 7   負責人     287519 non-null  object\n",
      " 8   變更日期    287417 non-null  object\n",
      " 9   核准文號    287477 non-null  object\n",
      "dtypes: object(10)\n",
      "memory usage: 21.9+ MB\n"
     ]
    }
   ],
   "source": [
    "# 取得電腦檔案\n",
    "dir='closedata/'\n",
    "try:\n",
    "    all_files=os.listdir(dir)\n",
    "except  FileNotFoundError as err :\n",
    "    print('沒有此目錄')\n",
    "# all_files\n",
    "\n",
    "# 讀取並串接所有檔案\n",
    "close_1310_2204=pd.DataFrame(columns=[\"序號\",\"縣市名稱\",\"統一編號\",\"商業名稱\",\"商業所在地\",\"資本額\",\"組織型態\",\"負責人\",\"變更日期\",\"核准文號\"])\n",
    "for files in all_files:\n",
    "    try:        \n",
    "        file_monthly = pd.read_csv('closedata/'+files)\n",
    "        close_1310_2204=pd.concat([close_1310_2204,file_monthly],ignore_index=True)\n",
    "    except:\n",
    "        print(f'Erro: {files}')\n",
    "        continue\n",
    "\n",
    "print('串接完成')\n",
    "close_1310_2204.info()\n"
   ]
  },
  {
   "cell_type": "code",
   "execution_count": 5,
   "id": "b93a3ad1-a41a-4505-a8fb-2a9f84ff67d0",
   "metadata": {},
   "outputs": [
    {
     "name": "stdout",
     "output_type": "stream",
     "text": [
      "<class 'pandas.core.frame.DataFrame'>\n",
      "RangeIndex: 287519 entries, 0 to 287518\n",
      "Data columns (total 7 columns):\n",
      " #   Column  Non-Null Count   Dtype \n",
      "---  ------  --------------   ----- \n",
      " 0   統一編號    287519 non-null  object\n",
      " 1   縣市名稱    287501 non-null  object\n",
      " 2   商業名稱    287519 non-null  object\n",
      " 3   商業所在地   287518 non-null  object\n",
      " 4   資本額     287518 non-null  object\n",
      " 5   組織型態    287516 non-null  object\n",
      " 6   變更日期    287417 non-null  object\n",
      "dtypes: object(7)\n",
      "memory usage: 15.4+ MB\n"
     ]
    }
   ],
   "source": [
    "# 整理檔案\n",
    "value = close_1310_2204['統一編號'].values\n",
    "\n",
    "# 刪除 欄位:序號、核准文號\n",
    "close_1310_2204.drop(['核准文號','序號','負責人','統一編號'],axis=1,inplace=True)\n",
    "\n",
    "# 將統一編號放到第一欄\n",
    "close_1310_2204.insert(0,'統一編號',value)\n",
    "\n",
    "# 存檔\n",
    "#close_1310_2204.to_csv('close1310_2204.csv')\n",
    "\n",
    "close_1310_2204.info()\n",
    "\n"
   ]
  },
  {
   "cell_type": "code",
   "execution_count": 6,
   "id": "c11fe5f2-e426-4f1a-b8a7-07992574bc93",
   "metadata": {},
   "outputs": [
    {
     "name": "stdout",
     "output_type": "stream",
     "text": [
      "<class 'pandas.core.frame.DataFrame'>\n",
      "Int64Index: 102 entries, 2140 to 283355\n",
      "Data columns (total 7 columns):\n",
      " #   Column  Non-Null Count  Dtype \n",
      "---  ------  --------------  ----- \n",
      " 0   統一編號    102 non-null    object\n",
      " 1   縣市名稱    102 non-null    object\n",
      " 2   商業名稱    102 non-null    object\n",
      " 3   商業所在地   102 non-null    object\n",
      " 4   資本額     102 non-null    object\n",
      " 5   組織型態    101 non-null    object\n",
      " 6   變更日期    0 non-null      object\n",
      "dtypes: object(7)\n",
      "memory usage: 6.4+ KB\n"
     ]
    }
   ],
   "source": [
    "# 把NAN分割出來\n",
    "close_date_NAN= close_1310_2204[close_1310_2204['變更日期'].isnull()]\n",
    "close_date_NAN.info()"
   ]
  },
  {
   "cell_type": "code",
   "execution_count": 7,
   "id": "4b787223-79a5-4e78-80ad-821c1d8e5141",
   "metadata": {},
   "outputs": [
    {
     "name": "stdout",
     "output_type": "stream",
     "text": [
      "<class 'pandas.core.frame.DataFrame'>\n",
      "Int64Index: 287417 entries, 0 to 287518\n",
      "Data columns (total 7 columns):\n",
      " #   Column  Non-Null Count   Dtype \n",
      "---  ------  --------------   ----- \n",
      " 0   統一編號    287417 non-null  object\n",
      " 1   縣市名稱    287399 non-null  object\n",
      " 2   商業名稱    287417 non-null  object\n",
      " 3   商業所在地   287416 non-null  object\n",
      " 4   資本額     287416 non-null  object\n",
      " 5   組織型態    287415 non-null  object\n",
      " 6   變更日期    287417 non-null  object\n",
      "dtypes: object(7)\n",
      "memory usage: 17.5+ MB\n"
     ]
    }
   ],
   "source": [
    "# 去除日期NAN\n",
    "close_1310_2204=close_1310_2204[close_1310_2204['變更日期'].notnull()]\n",
    "close_1310_2204.info()"
   ]
  },
  {
   "cell_type": "code",
   "execution_count": 8,
   "id": "e900156d-aba8-4d27-aa57-410d7929d352",
   "metadata": {},
   "outputs": [
    {
     "name": "stdout",
     "output_type": "stream",
     "text": [
      "<class 'pandas.core.frame.DataFrame'>\n",
      "Int64Index: 287417 entries, 0 to 287518\n",
      "Data columns (total 7 columns):\n",
      " #   Column  Non-Null Count   Dtype         \n",
      "---  ------  --------------   -----         \n",
      " 0   統一編號    287417 non-null  object        \n",
      " 1   縣市名稱    287399 non-null  object        \n",
      " 2   商業名稱    287417 non-null  object        \n",
      " 3   商業所在地   287416 non-null  object        \n",
      " 4   資本額     287416 non-null  object        \n",
      " 5   組織型態    287415 non-null  object        \n",
      " 6   變更日期    287417 non-null  datetime64[ns]\n",
      "dtypes: datetime64[ns](1), object(6)\n",
      "memory usage: 17.5+ MB\n"
     ]
    }
   ],
   "source": [
    "# 日期欄位處裡\n",
    "# 轉型別,去除小數點 ,換成西元年\n",
    "close_1310_2204['變更日期']=(close_1310_2204['變更日期'].astype(int))+19110000\n",
    "\n",
    "# 換成日期型別\n",
    "close_1310_2204['變更日期']=pd.to_datetime(close_1310_2204['變更日期'],format='%Y%m%d')\n",
    "\n",
    "close_1310_2204.info()\n",
    "\n"
   ]
  },
  {
   "cell_type": "code",
   "execution_count": 9,
   "id": "27b6a95f-0887-4224-b6d4-efd24caf87da",
   "metadata": {},
   "outputs": [
    {
     "data": {
      "text/html": [
       "<div>\n",
       "<style scoped>\n",
       "    .dataframe tbody tr th:only-of-type {\n",
       "        vertical-align: middle;\n",
       "    }\n",
       "\n",
       "    .dataframe tbody tr th {\n",
       "        vertical-align: top;\n",
       "    }\n",
       "\n",
       "    .dataframe thead th {\n",
       "        text-align: right;\n",
       "    }\n",
       "</style>\n",
       "<table border=\"1\" class=\"dataframe\">\n",
       "  <thead>\n",
       "    <tr style=\"text-align: right;\">\n",
       "      <th></th>\n",
       "      <th>統一編號</th>\n",
       "      <th>縣市名稱</th>\n",
       "      <th>商業名稱</th>\n",
       "      <th>商業所在地</th>\n",
       "      <th>資本額</th>\n",
       "      <th>組織型態</th>\n",
       "      <th>變更日期</th>\n",
       "    </tr>\n",
       "  </thead>\n",
       "  <tbody>\n",
       "    <tr>\n",
       "      <th>287514</th>\n",
       "      <td>37980619</td>\n",
       "      <td>連江縣</td>\n",
       "      <td>津食堂</td>\n",
       "      <td>連江縣南竿鄉仁愛村48號</td>\n",
       "      <td>100000</td>\n",
       "      <td>獨資</td>\n",
       "      <td>2022-04-10</td>\n",
       "    </tr>\n",
       "    <tr>\n",
       "      <th>287515</th>\n",
       "      <td>41158139</td>\n",
       "      <td>連江縣</td>\n",
       "      <td>東旭民宿</td>\n",
       "      <td>連江縣莒光鄉大坪村11號</td>\n",
       "      <td>30000</td>\n",
       "      <td>獨資</td>\n",
       "      <td>2022-04-18</td>\n",
       "    </tr>\n",
       "    <tr>\n",
       "      <th>287516</th>\n",
       "      <td>72711486</td>\n",
       "      <td>連江縣</td>\n",
       "      <td>曹祥發美術工作坊</td>\n",
       "      <td>連江縣莒光鄉大坪村106-2號</td>\n",
       "      <td>200000</td>\n",
       "      <td>獨資</td>\n",
       "      <td>2022-04-10</td>\n",
       "    </tr>\n",
       "    <tr>\n",
       "      <th>287517</th>\n",
       "      <td>91161145</td>\n",
       "      <td>連江縣</td>\n",
       "      <td>魚之鄉貳店</td>\n",
       "      <td>連江縣北竿鄉塘岐村166號(店鋪2)</td>\n",
       "      <td>10000</td>\n",
       "      <td>獨資</td>\n",
       "      <td>2022-04-13</td>\n",
       "    </tr>\n",
       "    <tr>\n",
       "      <th>287518</th>\n",
       "      <td>91612351</td>\n",
       "      <td>連江縣</td>\n",
       "      <td>三軍商行</td>\n",
       "      <td>連江縣南竿鄉仁愛村79號</td>\n",
       "      <td>100000</td>\n",
       "      <td>獨資</td>\n",
       "      <td>2022-04-18</td>\n",
       "    </tr>\n",
       "  </tbody>\n",
       "</table>\n",
       "</div>"
      ],
      "text/plain": [
       "            統一編號 縣市名稱      商業名稱               商業所在地     資本額 組織型態       變更日期\n",
       "287514  37980619  連江縣       津食堂        連江縣南竿鄉仁愛村48號  100000   獨資 2022-04-10\n",
       "287515  41158139  連江縣      東旭民宿        連江縣莒光鄉大坪村11號   30000   獨資 2022-04-18\n",
       "287516  72711486  連江縣  曹祥發美術工作坊     連江縣莒光鄉大坪村106-2號  200000   獨資 2022-04-10\n",
       "287517  91161145  連江縣     魚之鄉貳店  連江縣北竿鄉塘岐村166號(店鋪2)   10000   獨資 2022-04-13\n",
       "287518  91612351  連江縣      三軍商行        連江縣南竿鄉仁愛村79號  100000   獨資 2022-04-18"
      ]
     },
     "execution_count": 9,
     "metadata": {},
     "output_type": "execute_result"
    }
   ],
   "source": [
    "close_1310_2204.tail()"
   ]
  },
  {
   "cell_type": "code",
   "execution_count": 10,
   "id": "ec2a5b14-113b-4eaf-b865-3fd443d0d671",
   "metadata": {},
   "outputs": [
    {
     "name": "stdout",
     "output_type": "stream",
     "text": [
      "<class 'pandas.core.frame.DataFrame'>\n",
      "RangeIndex: 113232 entries, 0 to 113231\n",
      "Data columns (total 4 columns):\n",
      " #   Column  Non-Null Count   Dtype \n",
      "---  ------  --------------   ----- \n",
      " 0   統一編號    113232 non-null  object\n",
      " 1   商業名稱    113232 non-null  object\n",
      " 2   商業地址    113230 non-null  object\n",
      " 3   登記狀態    113226 non-null  object\n",
      "dtypes: object(4)\n",
      "memory usage: 3.5+ MB\n"
     ]
    }
   ],
   "source": [
    "# 找出飲料店類別\n",
    "drinks = pd.read_csv('data/商業登記_飲料店業.csv')\n",
    "drinks.info()"
   ]
  },
  {
   "cell_type": "code",
   "execution_count": 11,
   "id": "82a1a120-3967-4e0f-990b-fa1b1c740536",
   "metadata": {},
   "outputs": [
    {
     "name": "stdout",
     "output_type": "stream",
     "text": [
      "<class 'pandas.core.frame.DataFrame'>\n",
      "Int64Index: 26759 entries, 0 to 26758\n",
      "Data columns (total 10 columns):\n",
      " #   Column  Non-Null Count  Dtype         \n",
      "---  ------  --------------  -----         \n",
      " 0   統一編號    26759 non-null  object        \n",
      " 1   縣市名稱    26757 non-null  object        \n",
      " 2   商業名稱_x  26759 non-null  object        \n",
      " 3   商業所在地   26759 non-null  object        \n",
      " 4   資本額     26759 non-null  object        \n",
      " 5   組織型態    26759 non-null  object        \n",
      " 6   變更日期    26759 non-null  datetime64[ns]\n",
      " 7   商業名稱_y  26759 non-null  object        \n",
      " 8   商業地址    26759 non-null  object        \n",
      " 9   登記狀態    26759 non-null  object        \n",
      "dtypes: datetime64[ns](1), object(9)\n",
      "memory usage: 2.2+ MB\n"
     ]
    }
   ],
   "source": [
    "# 合併兩資料取交集\n",
    "beverage = pd.merge(close_1310_2204,drinks,on='統一編號')\n",
    "beverage.info()"
   ]
  },
  {
   "cell_type": "code",
   "execution_count": 12,
   "id": "ffc41bed-8169-4e8b-9ba1-db25ed8c3f0e",
   "metadata": {},
   "outputs": [],
   "source": [
    "# 確認欄位相同\n",
    "beverage_dif=beverage.query('商業名稱_x != 商業名稱_y | 商業所在地 != 商業地址')\n"
   ]
  },
  {
   "cell_type": "code",
   "execution_count": 13,
   "id": "12ac9c60-5700-495d-8687-1ada4c9b270a",
   "metadata": {},
   "outputs": [
    {
     "name": "stdout",
     "output_type": "stream",
     "text": [
      "<class 'pandas.core.frame.DataFrame'>\n",
      "Int64Index: 701 entries, 174 to 26737\n",
      "Data columns (total 10 columns):\n",
      " #   Column  Non-Null Count  Dtype         \n",
      "---  ------  --------------  -----         \n",
      " 0   統一編號    701 non-null    object        \n",
      " 1   縣市名稱    700 non-null    object        \n",
      " 2   商業名稱_x  701 non-null    object        \n",
      " 3   商業所在地   701 non-null    object        \n",
      " 4   資本額     701 non-null    object        \n",
      " 5   組織型態    701 non-null    object        \n",
      " 6   變更日期    701 non-null    datetime64[ns]\n",
      " 7   商業名稱_y  701 non-null    object        \n",
      " 8   商業地址    701 non-null    object        \n",
      " 9   登記狀態    701 non-null    object        \n",
      "dtypes: datetime64[ns](1), object(9)\n",
      "memory usage: 60.2+ KB\n"
     ]
    }
   ],
   "source": [
    "beverage_dif.info()"
   ]
  },
  {
   "cell_type": "code",
   "execution_count": 14,
   "id": "b69740bd-87e4-47c8-92fa-f2c42bde421c",
   "metadata": {},
   "outputs": [],
   "source": [
    "# 欄位相同\n",
    "beverage=beverage.query('商業名稱_x == 商業名稱_y & 商業所在地 == 商業地址')\n",
    "\n",
    "# 去除重複欄位\n",
    "beverage.drop(['商業名稱_y','商業所在地'],axis=1,inplace=True)"
   ]
  },
  {
   "cell_type": "code",
   "execution_count": 15,
   "id": "03e390ad-80f7-4a45-95df-9be955079f71",
   "metadata": {},
   "outputs": [
    {
     "data": {
      "text/html": [
       "<div>\n",
       "<style scoped>\n",
       "    .dataframe tbody tr th:only-of-type {\n",
       "        vertical-align: middle;\n",
       "    }\n",
       "\n",
       "    .dataframe tbody tr th {\n",
       "        vertical-align: top;\n",
       "    }\n",
       "\n",
       "    .dataframe thead th {\n",
       "        text-align: right;\n",
       "    }\n",
       "</style>\n",
       "<table border=\"1\" class=\"dataframe\">\n",
       "  <thead>\n",
       "    <tr style=\"text-align: right;\">\n",
       "      <th></th>\n",
       "      <th>統一編號</th>\n",
       "      <th>縣市名稱</th>\n",
       "      <th>商店名稱</th>\n",
       "      <th>資本額</th>\n",
       "      <th>組織型態</th>\n",
       "      <th>變更日期</th>\n",
       "      <th>商業地址</th>\n",
       "      <th>登記狀態</th>\n",
       "    </tr>\n",
       "  </thead>\n",
       "  <tbody>\n",
       "    <tr>\n",
       "      <th>0</th>\n",
       "      <td>10386741</td>\n",
       "      <td>臺北市</td>\n",
       "      <td>角窗小吃店</td>\n",
       "      <td>200000</td>\n",
       "      <td>獨資</td>\n",
       "      <td>2013-11-05</td>\n",
       "      <td>臺北市信義區基隆路1段11巷10弄30號</td>\n",
       "      <td>歇業／撤銷</td>\n",
       "    </tr>\n",
       "    <tr>\n",
       "      <th>1</th>\n",
       "      <td>13842265</td>\n",
       "      <td>臺北市</td>\n",
       "      <td>三采津店</td>\n",
       "      <td>100000</td>\n",
       "      <td>獨資</td>\n",
       "      <td>2013-11-19</td>\n",
       "      <td>臺北市大同區太原路154之10號1樓</td>\n",
       "      <td>歇業／撤銷</td>\n",
       "    </tr>\n",
       "    <tr>\n",
       "      <th>2</th>\n",
       "      <td>17742267</td>\n",
       "      <td>臺北市</td>\n",
       "      <td>銀寶商行</td>\n",
       "      <td>200000</td>\n",
       "      <td>合夥</td>\n",
       "      <td>2013-11-27</td>\n",
       "      <td>臺北市中正區市民大道1段100號地下1層、鄭州路地下街商場輕食2區009</td>\n",
       "      <td>歇業／撤銷</td>\n",
       "    </tr>\n",
       "    <tr>\n",
       "      <th>3</th>\n",
       "      <td>18385739</td>\n",
       "      <td>臺北市</td>\n",
       "      <td>藍天舞場</td>\n",
       "      <td>200000</td>\n",
       "      <td>獨資</td>\n",
       "      <td>2013-11-07</td>\n",
       "      <td>臺北市大安區復興南路2段208號地下1樓</td>\n",
       "      <td>歇業／撤銷</td>\n",
       "    </tr>\n",
       "    <tr>\n",
       "      <th>4</th>\n",
       "      <td>25561577</td>\n",
       "      <td>臺北市</td>\n",
       "      <td>柏元小吃店</td>\n",
       "      <td>200000</td>\n",
       "      <td>獨資</td>\n",
       "      <td>2013-11-01</td>\n",
       "      <td>臺北市中正區懷寧街39號</td>\n",
       "      <td>歇業／撤銷</td>\n",
       "    </tr>\n",
       "  </tbody>\n",
       "</table>\n",
       "</div>"
      ],
      "text/plain": [
       "       統一編號 縣市名稱   商店名稱     資本額 組織型態       變更日期  \\\n",
       "0  10386741  臺北市  角窗小吃店  200000   獨資 2013-11-05   \n",
       "1  13842265  臺北市   三采津店  100000   獨資 2013-11-19   \n",
       "2  17742267  臺北市   銀寶商行  200000   合夥 2013-11-27   \n",
       "3  18385739  臺北市   藍天舞場  200000   獨資 2013-11-07   \n",
       "4  25561577  臺北市  柏元小吃店  200000   獨資 2013-11-01   \n",
       "\n",
       "                                   商業地址   登記狀態  \n",
       "0                  臺北市信義區基隆路1段11巷10弄30號  歇業／撤銷  \n",
       "1                    臺北市大同區太原路154之10號1樓  歇業／撤銷  \n",
       "2  臺北市中正區市民大道1段100號地下1層、鄭州路地下街商場輕食2區009  歇業／撤銷  \n",
       "3                  臺北市大安區復興南路2段208號地下1樓  歇業／撤銷  \n",
       "4                          臺北市中正區懷寧街39號  歇業／撤銷  "
      ]
     },
     "execution_count": 15,
     "metadata": {},
     "output_type": "execute_result"
    }
   ],
   "source": [
    "# 欄位重新命名\n",
    "beverage.rename(columns={'商業名稱_x':'商店名稱'},inplace=True)\n",
    "\n",
    "beverage.head()"
   ]
  },
  {
   "cell_type": "code",
   "execution_count": 20,
   "id": "7bae5072-8146-4358-aa6c-aa52faa41f89",
   "metadata": {},
   "outputs": [],
   "source": [
    "# 歇業資料存檔\n",
    "close_1310_2204.to_csv('gooddata/close1310_2204.csv',encoding='utf_8_sig', index=False)\n",
    "# 飲料業存檔\n",
    "beverage.to_csv('gooddata/beverage.csv',encoding='utf_8_sig', index=False)"
   ]
  },
  {
   "cell_type": "code",
   "execution_count": 21,
   "id": "fda4eb0f-14ec-48fd-a93a-2f9d2a01d2f2",
   "metadata": {},
   "outputs": [
    {
     "name": "stdout",
     "output_type": "stream",
     "text": [
      "<class 'pandas.core.frame.DataFrame'>\n",
      "Int64Index: 18839 entries, 0 to 19450\n",
      "Data columns (total 8 columns):\n",
      " #   Column  Non-Null Count  Dtype         \n",
      "---  ------  --------------  -----         \n",
      " 0   統一編號    18839 non-null  object        \n",
      " 1   縣市名稱    18838 non-null  object        \n",
      " 2   商店名稱    18839 non-null  object        \n",
      " 3   資本額     18839 non-null  object        \n",
      " 4   組織型態    18839 non-null  object        \n",
      " 5   變更日期    18839 non-null  datetime64[ns]\n",
      " 6   商業地址    18839 non-null  object        \n",
      " 7   登記狀態    18839 non-null  object        \n",
      "dtypes: datetime64[ns](1), object(7)\n",
      "memory usage: 1.3+ MB\n"
     ]
    }
   ],
   "source": [
    "# 疫情前\n",
    "beve_bf2020=beverage.query('變更日期 < datetime(2020,1,1)')\n",
    "beve_bf2020.info()"
   ]
  },
  {
   "cell_type": "code",
   "execution_count": 22,
   "id": "dad415ec-84d9-462d-9728-f1d59be4d25a",
   "metadata": {},
   "outputs": [
    {
     "name": "stdout",
     "output_type": "stream",
     "text": [
      "<class 'pandas.core.frame.DataFrame'>\n",
      "Int64Index: 7219 entries, 13238 to 26758\n",
      "Data columns (total 8 columns):\n",
      " #   Column  Non-Null Count  Dtype         \n",
      "---  ------  --------------  -----         \n",
      " 0   統一編號    7219 non-null   object        \n",
      " 1   縣市名稱    7219 non-null   object        \n",
      " 2   商店名稱    7219 non-null   object        \n",
      " 3   資本額     7219 non-null   object        \n",
      " 4   組織型態    7219 non-null   object        \n",
      " 5   變更日期    7219 non-null   datetime64[ns]\n",
      " 6   商業地址    7219 non-null   object        \n",
      " 7   登記狀態    7219 non-null   object        \n",
      "dtypes: datetime64[ns](1), object(7)\n",
      "memory usage: 507.6+ KB\n"
     ]
    }
   ],
   "source": [
    "# 疫情後\n",
    "beve_af2020=beverage.query('變更日期 > datetime(2020,1,1)')\n",
    "beve_af2020.info()\n"
   ]
  },
  {
   "cell_type": "code",
   "execution_count": 23,
   "id": "4dddbe30-76b9-4dbb-abc9-1dcd9f314001",
   "metadata": {},
   "outputs": [],
   "source": [
    "# 存檔\n",
    "beve_bf2020.to_csv('gooddata/beve_before2020.csv',encoding='utf_8_sig',index=False)\n",
    "beve_af2020.to_csv('gooddata/beve_after2020.csv',encoding='utf_8_sig',index=False)"
   ]
  },
  {
   "cell_type": "code",
   "execution_count": null,
   "id": "1d3730d5-164b-4bdb-880e-9b7f0b4b62a9",
   "metadata": {},
   "outputs": [],
   "source": []
  }
 ],
 "metadata": {
  "kernelspec": {
   "display_name": "Python 3 (ipykernel)",
   "language": "python",
   "name": "python3"
  },
  "language_info": {
   "codemirror_mode": {
    "name": "ipython",
    "version": 3
   },
   "file_extension": ".py",
   "mimetype": "text/x-python",
   "name": "python",
   "nbconvert_exporter": "python",
   "pygments_lexer": "ipython3",
   "version": "3.9.11"
  }
 },
 "nbformat": 4,
 "nbformat_minor": 5
}
