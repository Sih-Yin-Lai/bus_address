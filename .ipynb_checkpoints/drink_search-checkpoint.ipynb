{
 "cells": [
  {
   "cell_type": "code",
   "execution_count": 1,
   "id": "eeb568a3-2af7-4b34-8d48-5a5a4dbca5a5",
   "metadata": {},
   "outputs": [],
   "source": [
    "import pandas as pd\n",
    "import numpy as np"
   ]
  },
  {
   "cell_type": "code",
   "execution_count": 2,
   "id": "c99b6c2d-003a-4930-b274-3062b15e29c2",
   "metadata": {},
   "outputs": [
    {
     "name": "stderr",
     "output_type": "stream",
     "text": [
      "C:\\Users\\Student\\AppData\\Local\\Temp\\ipykernel_15624\\3079907056.py:1: DtypeWarning: Columns (0) have mixed types. Specify dtype option on import or set low_memory=False.\n",
      "  df=pd.read_csv('../data/regist1310_2204.csv')\n"
     ]
    }
   ],
   "source": [
    "df=pd.read_csv('../data/')"
   ]
  },
  {
   "cell_type": "code",
   "execution_count": 3,
   "id": "4bc03719-8728-4134-ace6-3dc9cd0e528b",
   "metadata": {},
   "outputs": [
    {
     "data": {
      "text/html": [
       "<div>\n",
       "<style scoped>\n",
       "    .dataframe tbody tr th:only-of-type {\n",
       "        vertical-align: middle;\n",
       "    }\n",
       "\n",
       "    .dataframe tbody tr th {\n",
       "        vertical-align: top;\n",
       "    }\n",
       "\n",
       "    .dataframe thead th {\n",
       "        text-align: right;\n",
       "    }\n",
       "</style>\n",
       "<table border=\"1\" class=\"dataframe\">\n",
       "  <thead>\n",
       "    <tr style=\"text-align: right;\">\n",
       "      <th></th>\n",
       "      <th>統一編號</th>\n",
       "      <th>縣市名稱</th>\n",
       "      <th>商業名稱</th>\n",
       "      <th>商業所在地</th>\n",
       "      <th>資本額</th>\n",
       "      <th>組織型態</th>\n",
       "      <th>設立日期</th>\n",
       "    </tr>\n",
       "  </thead>\n",
       "  <tbody>\n",
       "    <tr>\n",
       "      <th>0</th>\n",
       "      <td>10671631</td>\n",
       "      <td>臺北市</td>\n",
       "      <td>華寶企業社</td>\n",
       "      <td>臺北市萬華區萬大路387巷29弄15號1樓</td>\n",
       "      <td>2000000.0</td>\n",
       "      <td>獨資</td>\n",
       "      <td>201310</td>\n",
       "    </tr>\n",
       "    <tr>\n",
       "      <th>1</th>\n",
       "      <td>17273433</td>\n",
       "      <td>臺北市</td>\n",
       "      <td>士林玻璃行</td>\n",
       "      <td>臺北市士林區文林路663號(1樓)</td>\n",
       "      <td>200000.0</td>\n",
       "      <td>獨資</td>\n",
       "      <td>201310</td>\n",
       "    </tr>\n",
       "    <tr>\n",
       "      <th>2</th>\n",
       "      <td>17540591</td>\n",
       "      <td>臺北市</td>\n",
       "      <td>三子山拉麵屋</td>\n",
       "      <td>臺北市士林區天母東路8巷89號1樓</td>\n",
       "      <td>240000.0</td>\n",
       "      <td>獨資</td>\n",
       "      <td>201310</td>\n",
       "    </tr>\n",
       "    <tr>\n",
       "      <th>3</th>\n",
       "      <td>17748874</td>\n",
       "      <td>臺北市</td>\n",
       "      <td>二子山拉麵部屋</td>\n",
       "      <td>臺北市士林區中山北路6段738號</td>\n",
       "      <td>240000.0</td>\n",
       "      <td>獨資</td>\n",
       "      <td>201310</td>\n",
       "    </tr>\n",
       "    <tr>\n",
       "      <th>4</th>\n",
       "      <td>20996588</td>\n",
       "      <td>臺北市</td>\n",
       "      <td>凱新汽車商行</td>\n",
       "      <td>臺北市內湖區民權東路6段296巷76號5樓</td>\n",
       "      <td>8000.0</td>\n",
       "      <td>獨資</td>\n",
       "      <td>201310</td>\n",
       "    </tr>\n",
       "    <tr>\n",
       "      <th>5</th>\n",
       "      <td>25619634</td>\n",
       "      <td>臺北市</td>\n",
       "      <td>三喜創意媒體科技</td>\n",
       "      <td>臺北市信義區松德路12號6樓</td>\n",
       "      <td>200000.0</td>\n",
       "      <td>獨資</td>\n",
       "      <td>201310</td>\n",
       "    </tr>\n",
       "    <tr>\n",
       "      <th>6</th>\n",
       "      <td>25622357</td>\n",
       "      <td>臺北市</td>\n",
       "      <td>月半新潮式飲料專賣店</td>\n",
       "      <td>臺北市文山區景興路282巷3號1樓</td>\n",
       "      <td>100000.0</td>\n",
       "      <td>獨資</td>\n",
       "      <td>201310</td>\n",
       "    </tr>\n",
       "    <tr>\n",
       "      <th>7</th>\n",
       "      <td>26266010</td>\n",
       "      <td>臺北市</td>\n",
       "      <td>德瑞克商行</td>\n",
       "      <td>臺北市松山區民生東路3段130巷14號</td>\n",
       "      <td>100000.0</td>\n",
       "      <td>獨資</td>\n",
       "      <td>201310</td>\n",
       "    </tr>\n",
       "    <tr>\n",
       "      <th>8</th>\n",
       "      <td>26300707</td>\n",
       "      <td>臺北市</td>\n",
       "      <td>大可商行</td>\n",
       "      <td>臺北市中正區市民大道1段100號地下街20號店鋪</td>\n",
       "      <td>100000.0</td>\n",
       "      <td>獨資</td>\n",
       "      <td>201310</td>\n",
       "    </tr>\n",
       "    <tr>\n",
       "      <th>9</th>\n",
       "      <td>26389934</td>\n",
       "      <td>臺北市</td>\n",
       "      <td>嘉彤精品服飾店</td>\n",
       "      <td>臺北市大安區忠孝東路4段205巷29弄7號1樓</td>\n",
       "      <td>200000.0</td>\n",
       "      <td>獨資</td>\n",
       "      <td>201310</td>\n",
       "    </tr>\n",
       "  </tbody>\n",
       "</table>\n",
       "</div>"
      ],
      "text/plain": [
       "       統一編號 縣市名稱        商業名稱                     商業所在地        資本額 組織型態    設立日期\n",
       "0  10671631  臺北市       華寶企業社     臺北市萬華區萬大路387巷29弄15號1樓  2000000.0   獨資  201310\n",
       "1  17273433  臺北市       士林玻璃行         臺北市士林區文林路663號(1樓)   200000.0   獨資  201310\n",
       "2  17540591  臺北市      三子山拉麵屋         臺北市士林區天母東路8巷89號1樓   240000.0   獨資  201310\n",
       "3  17748874  臺北市     二子山拉麵部屋          臺北市士林區中山北路6段738號   240000.0   獨資  201310\n",
       "4  20996588  臺北市      凱新汽車商行     臺北市內湖區民權東路6段296巷76號5樓     8000.0   獨資  201310\n",
       "5  25619634  臺北市    三喜創意媒體科技            臺北市信義區松德路12號6樓   200000.0   獨資  201310\n",
       "6  25622357  臺北市  月半新潮式飲料專賣店         臺北市文山區景興路282巷3號1樓   100000.0   獨資  201310\n",
       "7  26266010  臺北市       德瑞克商行       臺北市松山區民生東路3段130巷14號   100000.0   獨資  201310\n",
       "8  26300707  臺北市        大可商行  臺北市中正區市民大道1段100號地下街20號店鋪   100000.0   獨資  201310\n",
       "9  26389934  臺北市     嘉彤精品服飾店   臺北市大安區忠孝東路4段205巷29弄7號1樓   200000.0   獨資  201310"
      ]
     },
     "execution_count": 3,
     "metadata": {},
     "output_type": "execute_result"
    }
   ],
   "source": [
    "df.head(10)"
   ]
  },
  {
   "cell_type": "code",
   "execution_count": 4,
   "id": "1fa977b2-8dcb-4df6-a076-a521d932e980",
   "metadata": {},
   "outputs": [
    {
     "name": "stdout",
     "output_type": "stream",
     "text": [
      "<class 'pandas.core.frame.DataFrame'>\n",
      "RangeIndex: 465959 entries, 0 to 465958\n",
      "Data columns (total 7 columns):\n",
      " #   Column  Non-Null Count   Dtype  \n",
      "---  ------  --------------   -----  \n",
      " 0   統一編號    465959 non-null  object \n",
      " 1   縣市名稱    465959 non-null  object \n",
      " 2   商業名稱    465959 non-null  object \n",
      " 3   商業所在地   465959 non-null  object \n",
      " 4   資本額     465818 non-null  float64\n",
      " 5   組織型態    465959 non-null  object \n",
      " 6   設立日期    465959 non-null  int64  \n",
      "dtypes: float64(1), int64(1), object(5)\n",
      "memory usage: 24.9+ MB\n"
     ]
    }
   ],
   "source": [
    "df.info()"
   ]
  },
  {
   "cell_type": "code",
   "execution_count": 48,
   "id": "4a7fe5b8-525a-4303-acf7-84eec77c54ff",
   "metadata": {},
   "outputs": [],
   "source": [
    "# 取出飲料業\n",
    "drink=df[df['行業代號'].astype(int).astype(str).str.contains(r'^563.*[0-3]$')]"
   ]
  },
  {
   "cell_type": "code",
   "execution_count": 50,
   "id": "b64688d0-8858-44b3-9ad7-1e330974c0f6",
   "metadata": {},
   "outputs": [
    {
     "name": "stderr",
     "output_type": "stream",
     "text": [
      "C:\\Users\\ininl\\AppData\\Local\\Temp\\ipykernel_5076\\2179440318.py:2: SettingWithCopyWarning: \n",
      "A value is trying to be set on a copy of a slice from a DataFrame\n",
      "\n",
      "See the caveats in the documentation: https://pandas.pydata.org/pandas-docs/stable/user_guide/indexing.html#returning-a-view-versus-a-copy\n",
      "  drink.drop('Unnamed: 0',axis=1,inplace=True)\n"
     ]
    }
   ],
   "source": [
    "# 捨棄不要的欄位\n",
    "drink.drop('Unnamed: 0',axis=1,inplace=True)"
   ]
  },
  {
   "cell_type": "code",
   "execution_count": 51,
   "id": "342c719e-d44f-4412-9209-9967fae764b9",
   "metadata": {},
   "outputs": [
    {
     "name": "stdout",
     "output_type": "stream",
     "text": [
      "<class 'pandas.core.frame.DataFrame'>\n",
      "Int64Index: 26924 entries, 164 to 1568791\n",
      "Data columns (total 9 columns):\n",
      " #   Column  Non-Null Count  Dtype  \n",
      "---  ------  --------------  -----  \n",
      " 0   統一編號    26924 non-null  float64\n",
      " 1   營業地址    26924 non-null  object \n",
      " 2   營業人名稱   26924 non-null  object \n",
      " 3   資本額     26924 non-null  float64\n",
      " 4   設立日期    26924 non-null  float64\n",
      " 5   組織別名稱   26924 non-null  object \n",
      " 6   使用統一發票  26924 non-null  object \n",
      " 7   行業代號    26924 non-null  float64\n",
      " 8   名稱      26924 non-null  object \n",
      "dtypes: float64(4), object(5)\n",
      "memory usage: 2.1+ MB\n"
     ]
    }
   ],
   "source": [
    "drink.info()"
   ]
  },
  {
   "cell_type": "code",
   "execution_count": 52,
   "id": "de74c5c6-1766-478f-b63c-41f8898f55fa",
   "metadata": {},
   "outputs": [],
   "source": [
    "# 存檔\n",
    "drink.to_csv('../data/regist_drinks.csv',encoding='utf_8_sig',index=False)"
   ]
  },
  {
   "cell_type": "code",
   "execution_count": 3,
   "id": "83b1dc21-2b03-41b1-beab-e59d2f79b2c8",
   "metadata": {},
   "outputs": [],
   "source": [
    "# 歇業\n",
    "dfc=pd.read_csv('../data/close.csv')"
   ]
  },
  {
   "cell_type": "code",
   "execution_count": 12,
   "id": "8531a5df-50c4-4479-b10c-6fb49b087b0f",
   "metadata": {},
   "outputs": [],
   "source": [
    "dfc=dfc[dfc['行業代號'].notnull()]"
   ]
  },
  {
   "cell_type": "code",
   "execution_count": 13,
   "id": "69a3a46a-4bb0-4ec1-b509-389b239388de",
   "metadata": {},
   "outputs": [
    {
     "name": "stdout",
     "output_type": "stream",
     "text": [
      "<class 'pandas.core.frame.DataFrame'>\n",
      "Int64Index: 1678656 entries, 0 to 1678660\n",
      "Data columns (total 9 columns):\n",
      " #   Column      Non-Null Count    Dtype  \n",
      "---  ------      --------------    -----  \n",
      " 0   Unnamed: 0  1678656 non-null  int64  \n",
      " 1   統一編號        1678656 non-null  float64\n",
      " 2   營業地址        1678656 non-null  object \n",
      " 3   營業人名稱       1678656 non-null  object \n",
      " 4   資本額         1678656 non-null  float64\n",
      " 5   設立日期        1678622 non-null  float64\n",
      " 6   使用統一發票      1678656 non-null  object \n",
      " 7   行業代號        1678656 non-null  float64\n",
      " 8   名稱          1632561 non-null  object \n",
      "dtypes: float64(4), int64(1), object(4)\n",
      "memory usage: 128.1+ MB\n"
     ]
    }
   ],
   "source": [
    "dfc.info()"
   ]
  },
  {
   "cell_type": "code",
   "execution_count": 14,
   "id": "a93d5ea1-d5cf-4f9d-a38f-21b91f874f4c",
   "metadata": {},
   "outputs": [],
   "source": [
    "# 取出飲料業\n",
    "drinkc=dfc[dfc['行業代號'].astype(int).astype(str).str.contains('^563.*[^4]$')]"
   ]
  },
  {
   "cell_type": "code",
   "execution_count": 15,
   "id": "6e316480-794f-4579-8295-ead45008c931",
   "metadata": {},
   "outputs": [
    {
     "name": "stderr",
     "output_type": "stream",
     "text": [
      "C:\\Users\\ininl\\AppData\\Local\\Temp\\ipykernel_5508\\924478855.py:2: SettingWithCopyWarning: \n",
      "A value is trying to be set on a copy of a slice from a DataFrame\n",
      "\n",
      "See the caveats in the documentation: https://pandas.pydata.org/pandas-docs/stable/user_guide/indexing.html#returning-a-view-versus-a-copy\n",
      "  drinkc.drop('Unnamed: 0',axis=1,inplace=True)\n"
     ]
    }
   ],
   "source": [
    "# 捨棄不要的欄位\n",
    "drinkc.drop('Unnamed: 0',axis=1,inplace=True)"
   ]
  },
  {
   "cell_type": "code",
   "execution_count": 16,
   "id": "cd725f32-5734-480c-9bc9-d5a702c801d3",
   "metadata": {},
   "outputs": [
    {
     "name": "stdout",
     "output_type": "stream",
     "text": [
      "<class 'pandas.core.frame.DataFrame'>\n",
      "Int64Index: 43920 entries, 186 to 1678648\n",
      "Data columns (total 8 columns):\n",
      " #   Column  Non-Null Count  Dtype  \n",
      "---  ------  --------------  -----  \n",
      " 0   統一編號    43920 non-null  float64\n",
      " 1   營業地址    43920 non-null  object \n",
      " 2   營業人名稱   43920 non-null  object \n",
      " 3   資本額     43920 non-null  float64\n",
      " 4   設立日期    43919 non-null  float64\n",
      " 5   使用統一發票  43920 non-null  object \n",
      " 6   行業代號    43920 non-null  float64\n",
      " 7   名稱      43897 non-null  object \n",
      "dtypes: float64(4), object(4)\n",
      "memory usage: 3.0+ MB\n"
     ]
    }
   ],
   "source": [
    "drinkc.info()"
   ]
  },
  {
   "cell_type": "code",
   "execution_count": 1,
   "id": "2077f8ea-27a7-4b18-b20e-2e533602f479",
   "metadata": {},
   "outputs": [
    {
     "ename": "NameError",
     "evalue": "name 'drinkc' is not defined",
     "output_type": "error",
     "traceback": [
      "\u001b[1;31m-----------------------------------------------------------------------\u001b[0m",
      "\u001b[1;31mNameError\u001b[0m                             Traceback (most recent call last)",
      "Input \u001b[1;32mIn [1]\u001b[0m, in \u001b[0;36m<cell line: 2>\u001b[1;34m()\u001b[0m\n\u001b[0;32m      1\u001b[0m \u001b[38;5;66;03m# 存檔\u001b[39;00m\n\u001b[1;32m----> 2\u001b[0m \u001b[43mdrinkc\u001b[49m\u001b[38;5;241m.\u001b[39mto_csv(\u001b[38;5;124m'\u001b[39m\u001b[38;5;124m../data/close_drinks.csv\u001b[39m\u001b[38;5;124m'\u001b[39m,encoding\u001b[38;5;241m=\u001b[39m\u001b[38;5;124m'\u001b[39m\u001b[38;5;124mutf_8_sig\u001b[39m\u001b[38;5;124m'\u001b[39m,index\u001b[38;5;241m=\u001b[39m\u001b[38;5;28;01mFalse\u001b[39;00m)\n",
      "\u001b[1;31mNameError\u001b[0m: name 'drinkc' is not defined"
     ]
    }
   ],
   "source": [
    "# 存檔\n",
    "drinkc.to_csv('../data/close_drinks.csv',encoding='utf_8_sig',index=False)"
   ]
  },
  {
   "cell_type": "code",
   "execution_count": 3,
   "id": "6e7d379a-2274-4196-9fe3-91906b1003a2",
   "metadata": {},
   "outputs": [
    {
     "name": "stdout",
     "output_type": "stream",
     "text": [
      "<class 'pandas.core.frame.DataFrame'>\n",
      "RangeIndex: 106017 entries, 0 to 106016\n",
      "Data columns (total 10 columns):\n",
      " #   Column      Non-Null Count   Dtype  \n",
      "---  ------      --------------   -----  \n",
      " 0   Unnamed: 0  106017 non-null  int64  \n",
      " 1   統一編號        106017 non-null  float64\n",
      " 2   營業地址        106017 non-null  object \n",
      " 3   營業人名稱       106017 non-null  object \n",
      " 4   資本額         106017 non-null  float64\n",
      " 5   設立日期        106017 non-null  float64\n",
      " 6   停業日期        105991 non-null  float64\n",
      " 7   使用統一發票      106017 non-null  object \n",
      " 8   行業代號        106017 non-null  float64\n",
      " 9   名稱          106017 non-null  object \n",
      "dtypes: float64(5), int64(1), object(4)\n",
      "memory usage: 8.1+ MB\n"
     ]
    }
   ],
   "source": [
    "# 變更\n",
    "dfch=pd.read_csv('../data/change.csv')\n",
    "dfch.info()"
   ]
  },
  {
   "cell_type": "code",
   "execution_count": 8,
   "id": "2f6adbfa-dcb9-4840-80fd-7d0ad1a8ff84",
   "metadata": {},
   "outputs": [],
   "source": [
    "# 取出飲料業\n",
    "drinkch=dfch[dfch['行業代號'].astype(int).astype(str).str.contains('^563.*[0-3]$')]"
   ]
  },
  {
   "cell_type": "code",
   "execution_count": 9,
   "id": "afdd2e89-8a61-4924-99c6-d4f9b1fad1d5",
   "metadata": {},
   "outputs": [
    {
     "name": "stderr",
     "output_type": "stream",
     "text": [
      "C:\\Users\\ininl\\AppData\\Local\\Temp\\ipykernel_7636\\3420599156.py:2: SettingWithCopyWarning: \n",
      "A value is trying to be set on a copy of a slice from a DataFrame\n",
      "\n",
      "See the caveats in the documentation: https://pandas.pydata.org/pandas-docs/stable/user_guide/indexing.html#returning-a-view-versus-a-copy\n",
      "  drinkch.drop('Unnamed: 0',axis=1,inplace=True)\n"
     ]
    }
   ],
   "source": [
    "# 捨棄不要的欄位\n",
    "drinkch.drop('Unnamed: 0',axis=1,inplace=True)"
   ]
  },
  {
   "cell_type": "code",
   "execution_count": 10,
   "id": "d1197f06-0b07-45eb-8f01-09f396f51b1b",
   "metadata": {
    "tags": []
   },
   "outputs": [
    {
     "name": "stdout",
     "output_type": "stream",
     "text": [
      "<class 'pandas.core.frame.DataFrame'>\n",
      "Int64Index: 1590 entries, 79 to 106006\n",
      "Data columns (total 9 columns):\n",
      " #   Column  Non-Null Count  Dtype  \n",
      "---  ------  --------------  -----  \n",
      " 0   統一編號    1590 non-null   float64\n",
      " 1   營業地址    1590 non-null   object \n",
      " 2   營業人名稱   1590 non-null   object \n",
      " 3   資本額     1590 non-null   float64\n",
      " 4   設立日期    1590 non-null   float64\n",
      " 5   停業日期    1588 non-null   float64\n",
      " 6   使用統一發票  1590 non-null   object \n",
      " 7   行業代號    1590 non-null   float64\n",
      " 8   名稱      1590 non-null   object \n",
      "dtypes: float64(5), object(4)\n",
      "memory usage: 124.2+ KB\n"
     ]
    }
   ],
   "source": [
    "drinkch.info()"
   ]
  },
  {
   "cell_type": "code",
   "execution_count": 11,
   "id": "8f0e6cd8-9419-4270-8ca6-a9a4ac6cd1b4",
   "metadata": {},
   "outputs": [],
   "source": [
    "# 存檔\n",
    "drinkch.to_csv('../data/change_drinks.csv',encoding='utf_8_sig',index=False)"
   ]
  },
  {
   "cell_type": "code",
   "execution_count": null,
   "id": "7cb75f65-bd10-46f7-a68a-a28c6adc2a82",
   "metadata": {},
   "outputs": [],
   "source": []
  }
 ],
 "metadata": {
  "kernelspec": {
   "display_name": "Python 3 (ipykernel)",
   "language": "python",
   "name": "python3"
  },
  "language_info": {
   "codemirror_mode": {
    "name": "ipython",
    "version": 3
   },
   "file_extension": ".py",
   "mimetype": "text/x-python",
   "name": "python",
   "nbconvert_exporter": "python",
   "pygments_lexer": "ipython3",
   "version": "3.9.11"
  }
 },
 "nbformat": 4,
 "nbformat_minor": 5
}
