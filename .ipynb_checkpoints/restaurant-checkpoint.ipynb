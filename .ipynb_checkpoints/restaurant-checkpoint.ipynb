{
 "cells": [
  {
   "cell_type": "code",
   "execution_count": 1,
   "id": "c667126f-0550-47d0-acb4-2adf401ae1b7",
   "metadata": {},
   "outputs": [],
   "source": [
    "import numpy as np\n",
    "import pandas as pd\n"
   ]
  },
  {
   "cell_type": "code",
   "execution_count": 2,
   "id": "51946cb1-ef6b-4ecc-8216-d4e15b777cda",
   "metadata": {},
   "outputs": [
    {
     "data": {
      "text/plain": [
       "'1.4.2'"
      ]
     },
     "execution_count": 2,
     "metadata": {},
     "output_type": "execute_result"
    }
   ],
   "source": [
    "pd.__version__"
   ]
  },
  {
   "cell_type": "code",
   "execution_count": 3,
   "id": "d3a42d1f-e00d-49fe-af6d-5421ed55140f",
   "metadata": {},
   "outputs": [
    {
     "name": "stderr",
     "output_type": "stream",
     "text": [
      "C:\\Users\\ininl\\AppData\\Local\\Temp\\ipykernel_2424\\665042276.py:3: DtypeWarning: Columns (0) have mixed types. Specify dtype option on import or set low_memory=False.\n",
      "  restaurant = pd.read_csv('data/商業登記_餐館業.csv')\n"
     ]
    }
   ],
   "source": [
    "# 餐館業整理\n",
    "close1310_2204 = pd.read_csv('gooddata/close1310_2204.csv')\n",
    "restaurant = pd.read_csv('data/商業登記_餐館業.csv')"
   ]
  },
  {
   "cell_type": "code",
   "execution_count": 4,
   "id": "58c0b9cd-7a25-44f6-b649-b806869803ba",
   "metadata": {},
   "outputs": [
    {
     "name": "stdout",
     "output_type": "stream",
     "text": [
      "<class 'pandas.core.frame.DataFrame'>\n",
      "RangeIndex: 287417 entries, 0 to 287416\n",
      "Data columns (total 7 columns):\n",
      " #   Column  Non-Null Count   Dtype  \n",
      "---  ------  --------------   -----  \n",
      " 0   統一編號    287417 non-null  object \n",
      " 1   縣市名稱    287399 non-null  object \n",
      " 2   商業名稱    287417 non-null  object \n",
      " 3   商業所在地   287416 non-null  object \n",
      " 4   資本額     287416 non-null  float64\n",
      " 5   組織型態    287415 non-null  object \n",
      " 6   變更日期    287417 non-null  object \n",
      "dtypes: float64(1), object(6)\n",
      "memory usage: 15.3+ MB\n"
     ]
    }
   ],
   "source": [
    "close1310_2204.info()"
   ]
  },
  {
   "cell_type": "code",
   "execution_count": 5,
   "id": "cc2459e4-6b86-4097-b8ed-8e6ec591da1e",
   "metadata": {},
   "outputs": [],
   "source": [
    "# 轉日期型別\n",
    "close1310_2204['變更日期'] = pd.to_datetime(close1310_2204['變更日期'])"
   ]
  },
  {
   "cell_type": "code",
   "execution_count": 6,
   "id": "8721db86-3464-4ff4-a407-0ff3f5705d12",
   "metadata": {},
   "outputs": [
    {
     "name": "stdout",
     "output_type": "stream",
     "text": [
      "<class 'pandas.core.frame.DataFrame'>\n",
      "RangeIndex: 164095 entries, 0 to 164094\n",
      "Data columns (total 4 columns):\n",
      " #   Column  Non-Null Count   Dtype \n",
      "---  ------  --------------   ----- \n",
      " 0   統一編號    164095 non-null  object\n",
      " 1   商業名稱    164095 non-null  object\n",
      " 2   商業地址    164095 non-null  object\n",
      " 3   登記狀態    164092 non-null  object\n",
      "dtypes: object(4)\n",
      "memory usage: 5.0+ MB\n"
     ]
    }
   ],
   "source": [
    "restaurant.info()"
   ]
  },
  {
   "cell_type": "code",
   "execution_count": 7,
   "id": "b4da28ec-a04a-4660-991d-cea357fb465d",
   "metadata": {},
   "outputs": [
    {
     "name": "stdout",
     "output_type": "stream",
     "text": [
      "<class 'pandas.core.frame.DataFrame'>\n",
      "Int64Index: 4095 entries, 0 to 4094\n",
      "Data columns (total 10 columns):\n",
      " #   Column  Non-Null Count  Dtype         \n",
      "---  ------  --------------  -----         \n",
      " 0   統一編號    4095 non-null   object        \n",
      " 1   縣市名稱    4094 non-null   object        \n",
      " 2   商業名稱_x  4095 non-null   object        \n",
      " 3   商業所在地   4095 non-null   object        \n",
      " 4   資本額     4095 non-null   float64       \n",
      " 5   組織型態    4095 non-null   object        \n",
      " 6   變更日期    4095 non-null   datetime64[ns]\n",
      " 7   商業名稱_y  4095 non-null   object        \n",
      " 8   商業地址    4095 non-null   object        \n",
      " 9   登記狀態    4095 non-null   object        \n",
      "dtypes: datetime64[ns](1), float64(1), object(8)\n",
      "memory usage: 351.9+ KB\n"
     ]
    }
   ],
   "source": [
    "# 合併兩資料取交集\n",
    "restaurant = pd.merge(close1310_2204,restaurant,on='統一編號')\n",
    "restaurant.info()"
   ]
  },
  {
   "cell_type": "code",
   "execution_count": 8,
   "id": "5aff13aa-a98d-4fca-abb6-a13a1b9e435c",
   "metadata": {},
   "outputs": [],
   "source": [
    "# 確認欄位相同\n",
    "restaurant_dif=restaurant.query('商業名稱_x != 商業名稱_y | 商業所在地 != 商業地址')\n",
    "\n",
    "\n",
    "# 欄位相同\n",
    "restaurant=restaurant.query('商業名稱_x == 商業名稱_y & 商業所在地 == 商業地址')\n",
    "\n",
    "# 去除重複欄位\n",
    "restaurant.drop(['商業名稱_y','商業所在地'],axis=1,inplace=True)"
   ]
  },
  {
   "cell_type": "code",
   "execution_count": 9,
   "id": "6627450d-6c17-4254-9fbd-402cdb0b4c5e",
   "metadata": {},
   "outputs": [
    {
     "name": "stdout",
     "output_type": "stream",
     "text": [
      "<class 'pandas.core.frame.DataFrame'>\n",
      "Int64Index: 4042 entries, 0 to 4094\n",
      "Data columns (total 8 columns):\n",
      " #   Column  Non-Null Count  Dtype         \n",
      "---  ------  --------------  -----         \n",
      " 0   統一編號    4042 non-null   object        \n",
      " 1   縣市名稱    4041 non-null   object        \n",
      " 2   商店名稱    4042 non-null   object        \n",
      " 3   資本額     4042 non-null   float64       \n",
      " 4   組織型態    4042 non-null   object        \n",
      " 5   變更日期    4042 non-null   datetime64[ns]\n",
      " 6   商業地址    4042 non-null   object        \n",
      " 7   登記狀態    4042 non-null   object        \n",
      "dtypes: datetime64[ns](1), float64(1), object(6)\n",
      "memory usage: 284.2+ KB\n"
     ]
    }
   ],
   "source": [
    "# 欄位重新命名\n",
    "restaurant.rename(columns={'商業名稱_x':'商店名稱'},inplace=True)\n",
    "\n",
    "restaurant.info()"
   ]
  },
  {
   "cell_type": "code",
   "execution_count": 23,
   "id": "f59b5bab-2fa9-4426-b889-c07d6d74ecf5",
   "metadata": {},
   "outputs": [
    {
     "name": "stdout",
     "output_type": "stream",
     "text": [
      "<class 'pandas.core.frame.DataFrame'>\n",
      "Int64Index: 732 entries, 0 to 767\n",
      "Data columns (total 8 columns):\n",
      " #   Column  Non-Null Count  Dtype         \n",
      "---  ------  --------------  -----         \n",
      " 0   統一編號    732 non-null    object        \n",
      " 1   縣市名稱    731 non-null    object        \n",
      " 2   商店名稱    732 non-null    object        \n",
      " 3   資本額     732 non-null    float64       \n",
      " 4   組織型態    732 non-null    object        \n",
      " 5   變更日期    732 non-null    datetime64[ns]\n",
      " 6   商業地址    732 non-null    object        \n",
      " 7   登記狀態    732 non-null    object        \n",
      "dtypes: datetime64[ns](1), float64(1), object(6)\n",
      "memory usage: 51.5+ KB\n"
     ]
    }
   ],
   "source": [
    "# 疫情前\n",
    "rest_bf2020=restaurant.query('變更日期 < datetime(2020,1,1)')\n",
    "rest_bf2020.info()"
   ]
  },
  {
   "cell_type": "code",
   "execution_count": 20,
   "id": "f50998fe-512a-4622-9db1-933842ef37a5",
   "metadata": {},
   "outputs": [
    {
     "name": "stdout",
     "output_type": "stream",
     "text": [
      "<class 'pandas.core.frame.DataFrame'>\n",
      "Int64Index: 3310 entries, 768 to 4094\n",
      "Data columns (total 8 columns):\n",
      " #   Column  Non-Null Count  Dtype         \n",
      "---  ------  --------------  -----         \n",
      " 0   統一編號    3310 non-null   object        \n",
      " 1   縣市名稱    3310 non-null   object        \n",
      " 2   商店名稱    3310 non-null   object        \n",
      " 3   資本額     3310 non-null   float64       \n",
      " 4   組織型態    3310 non-null   object        \n",
      " 5   變更日期    3310 non-null   datetime64[ns]\n",
      " 6   商業地址    3310 non-null   object        \n",
      " 7   登記狀態    3310 non-null   object        \n",
      "dtypes: datetime64[ns](1), float64(1), object(6)\n",
      "memory usage: 232.7+ KB\n"
     ]
    }
   ],
   "source": [
    "# 疫情後\n",
    "rest_af2020=restaurant.query('變更日期 > datetime(2020,1,1)')\n",
    "rest_af2020.info()\n"
   ]
  },
  {
   "cell_type": "code",
   "execution_count": 24,
   "id": "53523cfd-2bde-493f-94b7-c368e123b10c",
   "metadata": {},
   "outputs": [],
   "source": [
    "# 存檔\n",
    "rest_bf2020.to_csv('gooddata/rest_before2020.csv',encoding='utf_8_sig',index=False)\n",
    "rest_af2020.to_csv('gooddata/rest_after2020.csv',encoding='utf_8_sig',index=False)"
   ]
  },
  {
   "cell_type": "code",
   "execution_count": 11,
   "id": "d2a05e22-f2bd-46f4-b642-0216e4a6346d",
   "metadata": {},
   "outputs": [],
   "source": [
    "# 餐館業存檔\n",
    "restaurant.to_csv('gooddata/restaurant.csv',encoding='utf_8_sig',index=False)"
   ]
  },
  {
   "cell_type": "code",
   "execution_count": null,
   "id": "91a4c3f9-0e55-4a6e-bb11-9084d96d5194",
   "metadata": {},
   "outputs": [],
   "source": []
  }
 ],
 "metadata": {
  "kernelspec": {
   "display_name": "Python 3 (ipykernel)",
   "language": "python",
   "name": "python3"
  },
  "language_info": {
   "codemirror_mode": {
    "name": "ipython",
    "version": 3
   },
   "file_extension": ".py",
   "mimetype": "text/x-python",
   "name": "python",
   "nbconvert_exporter": "python",
   "pygments_lexer": "ipython3",
   "version": "3.9.11"
  }
 },
 "nbformat": 4,
 "nbformat_minor": 5
}
