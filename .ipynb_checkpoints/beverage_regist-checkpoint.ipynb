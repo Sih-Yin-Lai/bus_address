{
 "cells": [
  {
   "cell_type": "code",
   "execution_count": 1,
   "id": "229925a0-c3e5-4802-8071-a33e9ca44ad0",
   "metadata": {},
   "outputs": [],
   "source": [
    "import numpy as np\n",
    "import pandas as pd\n"
   ]
  },
  {
   "cell_type": "code",
   "execution_count": 2,
   "id": "97357ff5-7642-47b4-bcbd-1eef8cf1cbbf",
   "metadata": {},
   "outputs": [
    {
     "data": {
      "text/plain": [
       "'1.4.2'"
      ]
     },
     "execution_count": 2,
     "metadata": {},
     "output_type": "execute_result"
    }
   ],
   "source": [
    "pd.__version__"
   ]
  },
  {
   "cell_type": "code",
   "execution_count": 5,
   "id": "6ab93d12-2dc4-4de3-91df-02a6aadc3e5b",
   "metadata": {},
   "outputs": [
    {
     "name": "stderr",
     "output_type": "stream",
     "text": [
      "C:\\Users\\Student\\AppData\\Local\\Temp\\ipykernel_1488\\1864336711.py:2: DtypeWarning: Columns (0) have mixed types. Specify dtype option on import or set low_memory=False.\n",
      "  regist310_2204 = pd.read_csv('../data/regist1310_2204.csv')\n"
     ]
    }
   ],
   "source": [
    "# 飲料業登記整理\n",
    "regist310_2204 = pd.read_csv('../data/regist1310_2204.csv')\n",
    "beverage = pd.read_csv('../career_raw/飲料店業.csv')b\n"
   ]
  },
  {
   "cell_type": "code",
   "execution_count": 23,
   "id": "0ee41570-5101-439d-90b7-4d2905ac9339",
   "metadata": {},
   "outputs": [
    {
     "name": "stdout",
     "output_type": "stream",
     "text": [
      "<class 'pandas.core.frame.DataFrame'>\n",
      "RangeIndex: 465959 entries, 0 to 465958\n",
      "Data columns (total 7 columns):\n",
      " #   Column  Non-Null Count   Dtype  \n",
      "---  ------  --------------   -----  \n",
      " 0   統一編號    465959 non-null  object \n",
      " 1   縣市名稱    465959 non-null  object \n",
      " 2   商業名稱    465959 non-null  object \n",
      " 3   商業所在地   465959 non-null  object \n",
      " 4   資本額     465818 non-null  float64\n",
      " 5   組織型態    465959 non-null  object \n",
      " 6   設立日期    465959 non-null  int64  \n",
      "dtypes: float64(1), int64(1), object(5)\n",
      "memory usage: 24.9+ MB\n"
     ]
    }
   ],
   "source": [
    "regist310_2204.info()"
   ]
  },
  {
   "cell_type": "code",
   "execution_count": 7,
   "id": "055f40b7-c814-4d7d-a9c8-c312335361fa",
   "metadata": {},
   "outputs": [
    {
     "name": "stdout",
     "output_type": "stream",
     "text": [
      "<class 'pandas.core.frame.DataFrame'>\n",
      "Int64Index: 12963 entries, 0 to 12962\n",
      "Data columns (total 10 columns):\n",
      " #   Column  Non-Null Count  Dtype  \n",
      "---  ------  --------------  -----  \n",
      " 0   統一編號    12963 non-null  object \n",
      " 1   縣市名稱    12963 non-null  object \n",
      " 2   商業名稱_x  12963 non-null  object \n",
      " 3   商業所在地   12963 non-null  object \n",
      " 4   資本額     12962 non-null  float64\n",
      " 5   組織型態    12963 non-null  object \n",
      " 6   設立日期    12963 non-null  int64  \n",
      " 7   商業名稱_y  12963 non-null  object \n",
      " 8   商業地址    12963 non-null  object \n",
      " 9   登記狀態    12963 non-null  object \n",
      "dtypes: float64(1), int64(1), object(8)\n",
      "memory usage: 1.1+ MB\n"
     ]
    }
   ],
   "source": [
    "# 合併兩資料取交集\n",
    "beverage = pd.merge(regist310_2204,beverage,on='統一編號')\n",
    "beverage.info()"
   ]
  },
  {
   "cell_type": "code",
   "execution_count": 8,
   "id": "ee607f70-e361-4efb-80a5-012fec6536d3",
   "metadata": {},
   "outputs": [
    {
     "name": "stdout",
     "output_type": "stream",
     "text": [
      "<class 'pandas.core.frame.DataFrame'>\n",
      "Int64Index: 2462 entries, 2 to 12959\n",
      "Data columns (total 10 columns):\n",
      " #   Column  Non-Null Count  Dtype  \n",
      "---  ------  --------------  -----  \n",
      " 0   統一編號    2462 non-null   object \n",
      " 1   縣市名稱    2462 non-null   object \n",
      " 2   商業名稱_x  2462 non-null   object \n",
      " 3   商業所在地   2462 non-null   object \n",
      " 4   資本額     2462 non-null   float64\n",
      " 5   組織型態    2462 non-null   object \n",
      " 6   設立日期    2462 non-null   int64  \n",
      " 7   商業名稱_y  2462 non-null   object \n",
      " 8   商業地址    2462 non-null   object \n",
      " 9   登記狀態    2462 non-null   object \n",
      "dtypes: float64(1), int64(1), object(8)\n",
      "memory usage: 211.6+ KB\n"
     ]
    }
   ],
   "source": [
    "# 確認欄位相同\n",
    "beverage_dif=beverage.query('商業名稱_x != 商業名稱_y | 商業所在地 != 商業地址')\n",
    "beverage_dif.info()"
   ]
  },
  {
   "cell_type": "code",
   "execution_count": 19,
   "id": "d0d0967b-8c8c-42e1-821c-a073a800e668",
   "metadata": {},
   "outputs": [
    {
     "data": {
      "text/html": [
       "<div>\n",
       "<style scoped>\n",
       "    .dataframe tbody tr th:only-of-type {\n",
       "        vertical-align: middle;\n",
       "    }\n",
       "\n",
       "    .dataframe tbody tr th {\n",
       "        vertical-align: top;\n",
       "    }\n",
       "\n",
       "    .dataframe thead th {\n",
       "        text-align: right;\n",
       "    }\n",
       "</style>\n",
       "<table border=\"1\" class=\"dataframe\">\n",
       "  <thead>\n",
       "    <tr style=\"text-align: right;\">\n",
       "      <th></th>\n",
       "      <th>統一編號</th>\n",
       "      <th>縣市名稱</th>\n",
       "      <th>商業名稱_x</th>\n",
       "      <th>商業所在地</th>\n",
       "      <th>資本額</th>\n",
       "      <th>組織型態</th>\n",
       "      <th>設立日期</th>\n",
       "      <th>商業名稱_y</th>\n",
       "      <th>商業地址</th>\n",
       "      <th>登記狀態</th>\n",
       "    </tr>\n",
       "  </thead>\n",
       "  <tbody>\n",
       "    <tr>\n",
       "      <th>12936</th>\n",
       "      <td>47523486</td>\n",
       "      <td>南投縣</td>\n",
       "      <td>永碁商行</td>\n",
       "      <td>南投縣南投市新興里自強路68號</td>\n",
       "      <td>200000.0</td>\n",
       "      <td>獨資</td>\n",
       "      <td>201606</td>\n",
       "      <td>巧意商行</td>\n",
       "      <td>南投縣南投市平和里民族路110號</td>\n",
       "      <td>歇業／撤銷</td>\n",
       "    </tr>\n",
       "    <tr>\n",
       "      <th>12939</th>\n",
       "      <td>47398760</td>\n",
       "      <td>雲林縣</td>\n",
       "      <td>零號企業社</td>\n",
       "      <td>雲林縣虎尾鎮新吉里立德街121號</td>\n",
       "      <td>30000.0</td>\n",
       "      <td>合夥</td>\n",
       "      <td>201606</td>\n",
       "      <td>零號企業社</td>\n",
       "      <td>雲林縣斗南鎮大同里中興路170巷4弄4號</td>\n",
       "      <td>核准設立</td>\n",
       "    </tr>\n",
       "    <tr>\n",
       "      <th>12951</th>\n",
       "      <td>40921559</td>\n",
       "      <td>嘉義縣</td>\n",
       "      <td>清華獅子會館民宿</td>\n",
       "      <td>嘉義縣竹崎鄉義仁村下寮仔16-9號</td>\n",
       "      <td>200000.0</td>\n",
       "      <td>獨資</td>\n",
       "      <td>201606</td>\n",
       "      <td>阿里山清華蝶莊民宿</td>\n",
       "      <td>嘉義縣竹崎鄉義仁村下寮仔16-9號</td>\n",
       "      <td>核准設立</td>\n",
       "    </tr>\n",
       "    <tr>\n",
       "      <th>12953</th>\n",
       "      <td>47734757</td>\n",
       "      <td>屏東縣</td>\n",
       "      <td>育達海鮮企業社</td>\n",
       "      <td>屏東縣枋寮鄉枋寮村中山路２４０巷６號1樓</td>\n",
       "      <td>200000.0</td>\n",
       "      <td>獨資</td>\n",
       "      <td>201606</td>\n",
       "      <td>育達海鮮企業社</td>\n",
       "      <td>屏東縣枋寮鄉枋寮村中興路76號1樓</td>\n",
       "      <td>核准設立</td>\n",
       "    </tr>\n",
       "    <tr>\n",
       "      <th>12959</th>\n",
       "      <td>47735340</td>\n",
       "      <td>屏東縣</td>\n",
       "      <td>奕華實業社</td>\n",
       "      <td>屏東縣屏東市永安里棒球路90巷9號1樓</td>\n",
       "      <td>30000.0</td>\n",
       "      <td>獨資</td>\n",
       "      <td>201606</td>\n",
       "      <td>奕華實業社</td>\n",
       "      <td>屏東縣屏東市永安里棒球路90巷9號</td>\n",
       "      <td>核准設立</td>\n",
       "    </tr>\n",
       "  </tbody>\n",
       "</table>\n",
       "</div>"
      ],
      "text/plain": [
       "           統一編號 縣市名稱    商業名稱_x                 商業所在地       資本額 組織型態    設立日期  \\\n",
       "12936  47523486  南投縣      永碁商行       南投縣南投市新興里自強路68號  200000.0   獨資  201606   \n",
       "12939  47398760  雲林縣     零號企業社      雲林縣虎尾鎮新吉里立德街121號   30000.0   合夥  201606   \n",
       "12951  40921559  嘉義縣  清華獅子會館民宿     嘉義縣竹崎鄉義仁村下寮仔16-9號  200000.0   獨資  201606   \n",
       "12953  47734757  屏東縣   育達海鮮企業社  屏東縣枋寮鄉枋寮村中山路２４０巷６號1樓  200000.0   獨資  201606   \n",
       "12959  47735340  屏東縣     奕華實業社   屏東縣屏東市永安里棒球路90巷9號1樓   30000.0   獨資  201606   \n",
       "\n",
       "          商業名稱_y                  商業地址   登記狀態  \n",
       "12936       巧意商行      南投縣南投市平和里民族路110號  歇業／撤銷  \n",
       "12939      零號企業社  雲林縣斗南鎮大同里中興路170巷4弄4號   核准設立  \n",
       "12951  阿里山清華蝶莊民宿     嘉義縣竹崎鄉義仁村下寮仔16-9號   核准設立  \n",
       "12953    育達海鮮企業社     屏東縣枋寮鄉枋寮村中興路76號1樓   核准設立  \n",
       "12959      奕華實業社     屏東縣屏東市永安里棒球路90巷9號   核准設立  "
      ]
     },
     "execution_count": 19,
     "metadata": {},
     "output_type": "execute_result"
    }
   ],
   "source": [
    "beverage_dif.tail()"
   ]
  },
  {
   "cell_type": "code",
   "execution_count": 11,
   "id": "c1410621-338d-43b0-b2e5-c826f58450b5",
   "metadata": {},
   "outputs": [
    {
     "name": "stdout",
     "output_type": "stream",
     "text": [
      "<class 'pandas.core.frame.DataFrame'>\n",
      "Int64Index: 10501 entries, 0 to 12962\n",
      "Data columns (total 8 columns):\n",
      " #   Column  Non-Null Count  Dtype  \n",
      "---  ------  --------------  -----  \n",
      " 0   統一編號    10501 non-null  object \n",
      " 1   縣市名稱    10501 non-null  object \n",
      " 2   商業名稱_x  10501 non-null  object \n",
      " 3   資本額     10500 non-null  float64\n",
      " 4   組織型態    10501 non-null  object \n",
      " 5   設立日期    10501 non-null  int64  \n",
      " 6   商業地址    10501 non-null  object \n",
      " 7   登記狀態    10501 non-null  object \n",
      "dtypes: float64(1), int64(1), object(6)\n",
      "memory usage: 738.4+ KB\n"
     ]
    },
    {
     "name": "stderr",
     "output_type": "stream",
     "text": [
      "C:\\Users\\Student\\AppData\\Local\\Temp\\ipykernel_1488\\145553160.py:4: SettingWithCopyWarning: \n",
      "A value is trying to be set on a copy of a slice from a DataFrame\n",
      "\n",
      "See the caveats in the documentation: https://pandas.pydata.org/pandas-docs/stable/user_guide/indexing.html#returning-a-view-versus-a-copy\n",
      "  beverage.drop(['商業名稱_y','商業所在地'],axis=1,inplace=True)\n"
     ]
    }
   ],
   "source": [
    "# 欄位相同\n",
    "beverage=beverage.query('商業名稱_x == 商業名稱_y & 商業所在地 == 商業地址')\n",
    "# 去除重複欄位\n",
    "beverage.drop(['商業名稱_y','商業所在地'],axis=1,inplace=True)\n",
    "\n",
    "beverage.info()"
   ]
  },
  {
   "cell_type": "code",
   "execution_count": 12,
   "id": "888b8a87-6d87-47f1-9095-2e9c4e5d568b",
   "metadata": {},
   "outputs": [
    {
     "name": "stderr",
     "output_type": "stream",
     "text": [
      "C:\\Users\\Student\\AppData\\Local\\Temp\\ipykernel_1488\\1220027447.py:2: SettingWithCopyWarning: \n",
      "A value is trying to be set on a copy of a slice from a DataFrame\n",
      "\n",
      "See the caveats in the documentation: https://pandas.pydata.org/pandas-docs/stable/user_guide/indexing.html#returning-a-view-versus-a-copy\n",
      "  beverage.rename(columns={'商業名稱_x':'商店名稱'},inplace=True)\n"
     ]
    },
    {
     "data": {
      "text/html": [
       "<div>\n",
       "<style scoped>\n",
       "    .dataframe tbody tr th:only-of-type {\n",
       "        vertical-align: middle;\n",
       "    }\n",
       "\n",
       "    .dataframe tbody tr th {\n",
       "        vertical-align: top;\n",
       "    }\n",
       "\n",
       "    .dataframe thead th {\n",
       "        text-align: right;\n",
       "    }\n",
       "</style>\n",
       "<table border=\"1\" class=\"dataframe\">\n",
       "  <thead>\n",
       "    <tr style=\"text-align: right;\">\n",
       "      <th></th>\n",
       "      <th>統一編號</th>\n",
       "      <th>縣市名稱</th>\n",
       "      <th>商店名稱</th>\n",
       "      <th>資本額</th>\n",
       "      <th>組織型態</th>\n",
       "      <th>設立日期</th>\n",
       "      <th>商業地址</th>\n",
       "      <th>登記狀態</th>\n",
       "    </tr>\n",
       "  </thead>\n",
       "  <tbody>\n",
       "    <tr>\n",
       "      <th>0</th>\n",
       "      <td>17748874</td>\n",
       "      <td>臺北市</td>\n",
       "      <td>二子山拉麵部屋</td>\n",
       "      <td>240000.0</td>\n",
       "      <td>獨資</td>\n",
       "      <td>201310</td>\n",
       "      <td>臺北市士林區中山北路6段738號</td>\n",
       "      <td>核准設立</td>\n",
       "    </tr>\n",
       "    <tr>\n",
       "      <th>1</th>\n",
       "      <td>31963022</td>\n",
       "      <td>臺北市</td>\n",
       "      <td>霖好健康茶行</td>\n",
       "      <td>250000.0</td>\n",
       "      <td>獨資</td>\n",
       "      <td>201310</td>\n",
       "      <td>臺北市文山區羅斯福路5段190之3號1樓</td>\n",
       "      <td>歇業／撤銷</td>\n",
       "    </tr>\n",
       "    <tr>\n",
       "      <th>3</th>\n",
       "      <td>31963249</td>\n",
       "      <td>臺北市</td>\n",
       "      <td>朝元小吃店</td>\n",
       "      <td>100000.0</td>\n",
       "      <td>獨資</td>\n",
       "      <td>201310</td>\n",
       "      <td>臺北市大安區東豐街63號1樓</td>\n",
       "      <td>核准設立</td>\n",
       "    </tr>\n",
       "    <tr>\n",
       "      <th>4</th>\n",
       "      <td>31963347</td>\n",
       "      <td>臺北市</td>\n",
       "      <td>欣鑫飲料店</td>\n",
       "      <td>200000.0</td>\n",
       "      <td>獨資</td>\n",
       "      <td>201310</td>\n",
       "      <td>臺北市中山區伊通街127之3號</td>\n",
       "      <td>歇業／撤銷</td>\n",
       "    </tr>\n",
       "    <tr>\n",
       "      <th>5</th>\n",
       "      <td>31963493</td>\n",
       "      <td>臺北市</td>\n",
       "      <td>美味研究餐館</td>\n",
       "      <td>190000.0</td>\n",
       "      <td>獨資</td>\n",
       "      <td>201310</td>\n",
       "      <td>臺北市文山區景華街92號1樓</td>\n",
       "      <td>歇業／撤銷</td>\n",
       "    </tr>\n",
       "  </tbody>\n",
       "</table>\n",
       "</div>"
      ],
      "text/plain": [
       "       統一編號 縣市名稱     商店名稱       資本額 組織型態    設立日期                  商業地址   登記狀態\n",
       "0  17748874  臺北市  二子山拉麵部屋  240000.0   獨資  201310      臺北市士林區中山北路6段738號   核准設立\n",
       "1  31963022  臺北市   霖好健康茶行  250000.0   獨資  201310  臺北市文山區羅斯福路5段190之3號1樓  歇業／撤銷\n",
       "3  31963249  臺北市    朝元小吃店  100000.0   獨資  201310        臺北市大安區東豐街63號1樓   核准設立\n",
       "4  31963347  臺北市    欣鑫飲料店  200000.0   獨資  201310       臺北市中山區伊通街127之3號  歇業／撤銷\n",
       "5  31963493  臺北市   美味研究餐館  190000.0   獨資  201310        臺北市文山區景華街92號1樓  歇業／撤銷"
      ]
     },
     "execution_count": 12,
     "metadata": {},
     "output_type": "execute_result"
    }
   ],
   "source": [
    "# 欄位重新命名\n",
    "beverage.rename(columns={'商業名稱_x':'商店名稱'},inplace=True)\n",
    "\n",
    "beverage.head()"
   ]
  },
  {
   "cell_type": "code",
   "execution_count": 18,
   "id": "907c2427-c566-4ff9-99bd-94506e3e8b39",
   "metadata": {},
   "outputs": [
    {
     "data": {
      "text/html": [
       "<div>\n",
       "<style scoped>\n",
       "    .dataframe tbody tr th:only-of-type {\n",
       "        vertical-align: middle;\n",
       "    }\n",
       "\n",
       "    .dataframe tbody tr th {\n",
       "        vertical-align: top;\n",
       "    }\n",
       "\n",
       "    .dataframe thead th {\n",
       "        text-align: right;\n",
       "    }\n",
       "</style>\n",
       "<table border=\"1\" class=\"dataframe\">\n",
       "  <thead>\n",
       "    <tr style=\"text-align: right;\">\n",
       "      <th></th>\n",
       "      <th>統一編號</th>\n",
       "      <th>縣市名稱</th>\n",
       "      <th>商店名稱</th>\n",
       "      <th>資本額</th>\n",
       "      <th>組織型態</th>\n",
       "      <th>設立日期</th>\n",
       "      <th>商業地址</th>\n",
       "      <th>登記狀態</th>\n",
       "    </tr>\n",
       "  </thead>\n",
       "  <tbody>\n",
       "    <tr>\n",
       "      <th>12957</th>\n",
       "      <td>47735025</td>\n",
       "      <td>屏東縣</td>\n",
       "      <td>甜在心裏商行</td>\n",
       "      <td>200000.0</td>\n",
       "      <td>合夥</td>\n",
       "      <td>201606</td>\n",
       "      <td>屏東縣屏東市瑞光里民生路4之2號</td>\n",
       "      <td>歇業／撤銷</td>\n",
       "    </tr>\n",
       "    <tr>\n",
       "      <th>12958</th>\n",
       "      <td>47735165</td>\n",
       "      <td>屏東縣</td>\n",
       "      <td>寶德旺企業社</td>\n",
       "      <td>30000.0</td>\n",
       "      <td>獨資</td>\n",
       "      <td>201606</td>\n",
       "      <td>屏東縣屏東市北興里中正路395號</td>\n",
       "      <td>核准設立</td>\n",
       "    </tr>\n",
       "    <tr>\n",
       "      <th>12960</th>\n",
       "      <td>47735355</td>\n",
       "      <td>屏東縣</td>\n",
       "      <td>井步山原住民人文生態產業合作工作室</td>\n",
       "      <td>5000.0</td>\n",
       "      <td>獨資</td>\n",
       "      <td>201606</td>\n",
       "      <td>屏東縣霧臺鄉霧臺村神山巷1之16號1樓</td>\n",
       "      <td>核准設立</td>\n",
       "    </tr>\n",
       "    <tr>\n",
       "      <th>12961</th>\n",
       "      <td>47735377</td>\n",
       "      <td>屏東縣</td>\n",
       "      <td>青悠堂</td>\n",
       "      <td>100000.0</td>\n",
       "      <td>獨資</td>\n",
       "      <td>201606</td>\n",
       "      <td>屏東縣屏東市勝利里忠孝路１２８號</td>\n",
       "      <td>歇業／撤銷</td>\n",
       "    </tr>\n",
       "    <tr>\n",
       "      <th>12962</th>\n",
       "      <td>47774666</td>\n",
       "      <td>屏東縣</td>\n",
       "      <td>川戶火鍋店</td>\n",
       "      <td>3000.0</td>\n",
       "      <td>獨資</td>\n",
       "      <td>201606</td>\n",
       "      <td>屏東縣屏東市龍華里復興南路一段671號</td>\n",
       "      <td>歇業／撤銷</td>\n",
       "    </tr>\n",
       "  </tbody>\n",
       "</table>\n",
       "</div>"
      ],
      "text/plain": [
       "           統一編號 縣市名稱               商店名稱       資本額 組織型態    設立日期  \\\n",
       "12957  47735025  屏東縣             甜在心裏商行  200000.0   合夥  201606   \n",
       "12958  47735165  屏東縣             寶德旺企業社   30000.0   獨資  201606   \n",
       "12960  47735355  屏東縣  井步山原住民人文生態產業合作工作室    5000.0   獨資  201606   \n",
       "12961  47735377  屏東縣                青悠堂  100000.0   獨資  201606   \n",
       "12962  47774666  屏東縣              川戶火鍋店    3000.0   獨資  201606   \n",
       "\n",
       "                      商業地址   登記狀態  \n",
       "12957     屏東縣屏東市瑞光里民生路4之2號  歇業／撤銷  \n",
       "12958     屏東縣屏東市北興里中正路395號   核准設立  \n",
       "12960  屏東縣霧臺鄉霧臺村神山巷1之16號1樓   核准設立  \n",
       "12961     屏東縣屏東市勝利里忠孝路１２８號  歇業／撤銷  \n",
       "12962  屏東縣屏東市龍華里復興南路一段671號  歇業／撤銷  "
      ]
     },
     "execution_count": 18,
     "metadata": {},
     "output_type": "execute_result"
    }
   ],
   "source": [
    "beverage.tail()"
   ]
  },
  {
   "cell_type": "code",
   "execution_count": 13,
   "id": "984db5f2-8636-4e80-86e0-e32fd936f9ae",
   "metadata": {},
   "outputs": [],
   "source": [
    "# 飲料業存檔\n",
    "beverage.to_csv('../careerData/beverage.csv',encoding='utf_8_sig', index=False)"
   ]
  },
  {
   "cell_type": "code",
   "execution_count": 17,
   "id": "5cf2841d-42f5-4367-9be4-2b2a7f6d870b",
   "metadata": {},
   "outputs": [
    {
     "name": "stdout",
     "output_type": "stream",
     "text": [
      "<class 'pandas.core.frame.DataFrame'>\n",
      "Int64Index: 10501 entries, 0 to 12962\n",
      "Data columns (total 8 columns):\n",
      " #   Column  Non-Null Count  Dtype  \n",
      "---  ------  --------------  -----  \n",
      " 0   統一編號    10501 non-null  object \n",
      " 1   縣市名稱    10501 non-null  object \n",
      " 2   商店名稱    10501 non-null  object \n",
      " 3   資本額     10500 non-null  float64\n",
      " 4   組織型態    10501 non-null  object \n",
      " 5   設立日期    10501 non-null  int64  \n",
      " 6   商業地址    10501 non-null  object \n",
      " 7   登記狀態    10501 non-null  object \n",
      "dtypes: float64(1), int64(1), object(6)\n",
      "memory usage: 738.4+ KB\n"
     ]
    }
   ],
   "source": [
    "# 疫情前\n",
    "beve_bf2020=beverage.query('設立日期 < 202001')\n",
    "beve_bf2020.info()"
   ]
  },
  {
   "cell_type": "code",
   "execution_count": 25,
   "id": "5e0b7cd8-f1b8-497f-b5ac-04e3c26dca4b",
   "metadata": {},
   "outputs": [
    {
     "name": "stdout",
     "output_type": "stream",
     "text": [
      "<class 'pandas.core.frame.DataFrame'>\n",
      "Int64Index: 0 entries\n",
      "Data columns (total 8 columns):\n",
      " #   Column  Non-Null Count  Dtype  \n",
      "---  ------  --------------  -----  \n",
      " 0   統一編號    0 non-null      object \n",
      " 1   縣市名稱    0 non-null      object \n",
      " 2   商店名稱    0 non-null      object \n",
      " 3   資本額     0 non-null      float64\n",
      " 4   組織型態    0 non-null      object \n",
      " 5   設立日期    0 non-null      int64  \n",
      " 6   商業地址    0 non-null      object \n",
      " 7   登記狀態    0 non-null      object \n",
      "dtypes: float64(1), int64(1), object(6)\n",
      "memory usage: 0.0+ bytes\n"
     ]
    }
   ],
   "source": [
    "# 疫情後\n",
    "beve_af2020=beverage.query('設立日期 >=202001')\n",
    "beve_af2020.info()\n"
   ]
  },
  {
   "cell_type": "code",
   "execution_count": 26,
   "id": "dd192f2c-7a3e-4490-92b2-60e035c060c2",
   "metadata": {},
   "outputs": [],
   "source": [
    "# 存檔\n",
    "beve_bf2020.to_csv('../careerData/beve_before2020.csv',encoding='utf_8_sig',index=False)\n",
    "# beve_af2020.to_csv('../careerData/beve_after2020.csv',encoding='utf_8_sig',index=False)"
   ]
  },
  {
   "cell_type": "code",
   "execution_count": null,
   "id": "d440e50e-7b14-4718-808d-db8f51bc1d79",
   "metadata": {},
   "outputs": [],
   "source": []
  }
 ],
 "metadata": {
  "kernelspec": {
   "display_name": "Python 3 (ipykernel)",
   "language": "python",
   "name": "python3"
  },
  "language_info": {
   "codemirror_mode": {
    "name": "ipython",
    "version": 3
   },
   "file_extension": ".py",
   "mimetype": "text/x-python",
   "name": "python",
   "nbconvert_exporter": "python",
   "pygments_lexer": "ipython3",
   "version": "3.9.11"
  }
 },
 "nbformat": 4,
 "nbformat_minor": 5
}
