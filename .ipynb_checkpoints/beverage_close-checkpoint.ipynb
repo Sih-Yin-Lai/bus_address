{
 "cells": [
  {
   "cell_type": "code",
   "execution_count": 3,
   "id": "229925a0-c3e5-4802-8071-a33e9ca44ad0",
   "metadata": {},
   "outputs": [],
   "source": [
    "import numpy as np\n",
    "import pandas as pd\n"
   ]
  },
  {
   "cell_type": "code",
   "execution_count": 4,
   "id": "97357ff5-7642-47b4-bcbd-1eef8cf1cbbf",
   "metadata": {},
   "outputs": [
    {
     "data": {
      "text/plain": [
       "'1.4.2'"
      ]
     },
     "execution_count": 4,
     "metadata": {},
     "output_type": "execute_result"
    }
   ],
   "source": [
    "pd.__version__"
   ]
  },
  {
   "cell_type": "code",
   "execution_count": 29,
   "id": "6ab93d12-2dc4-4de3-91df-02a6aadc3e5b",
   "metadata": {},
   "outputs": [],
   "source": [
    "# 飲料業登記整理\n",
    "close1310_2204 = pd.read_csv('../data/close1310_2204.csv')\n",
    "\n",
    "# 與登記合併過的\n",
    "beverage = pd.read_csv('../careerData/beverage.csv')\n"
   ]
  },
  {
   "cell_type": "code",
   "execution_count": 30,
   "id": "0ee41570-5101-439d-90b7-4d2905ac9339",
   "metadata": {},
   "outputs": [
    {
     "name": "stdout",
     "output_type": "stream",
     "text": [
      "<class 'pandas.core.frame.DataFrame'>\n",
      "RangeIndex: 287501 entries, 0 to 287500\n",
      "Data columns (total 7 columns):\n",
      " #   Column  Non-Null Count   Dtype  \n",
      "---  ------  --------------   -----  \n",
      " 0   統一編號    287501 non-null  object \n",
      " 1   縣市名稱    287501 non-null  object \n",
      " 2   商業名稱    287501 non-null  object \n",
      " 3   商業所在地   287501 non-null  object \n",
      " 4   資本額     287500 non-null  float64\n",
      " 5   組織型態    287498 non-null  object \n",
      " 6   歇業日期    287501 non-null  int64  \n",
      "dtypes: float64(1), int64(1), object(5)\n",
      "memory usage: 15.4+ MB\n"
     ]
    }
   ],
   "source": [
    "close1310_2204.info()"
   ]
  },
  {
   "cell_type": "code",
   "execution_count": 31,
   "id": "383a8f8b-5b1a-4fcd-825b-d01f0bdfdf50",
   "metadata": {},
   "outputs": [
    {
     "name": "stdout",
     "output_type": "stream",
     "text": [
      "<class 'pandas.core.frame.DataFrame'>\n",
      "RangeIndex: 10501 entries, 0 to 10500\n",
      "Data columns (total 8 columns):\n",
      " #   Column  Non-Null Count  Dtype  \n",
      "---  ------  --------------  -----  \n",
      " 0   統一編號    10501 non-null  object \n",
      " 1   縣市名稱    10501 non-null  object \n",
      " 2   商店名稱    10501 non-null  object \n",
      " 3   資本額     10500 non-null  float64\n",
      " 4   組織型態    10501 non-null  object \n",
      " 5   設立日期    10501 non-null  int64  \n",
      " 6   商業地址    10501 non-null  object \n",
      " 7   登記狀態    10501 non-null  object \n",
      "dtypes: float64(1), int64(1), object(6)\n",
      "memory usage: 656.4+ KB\n"
     ]
    }
   ],
   "source": [
    "beverage['統一編號']=beverage['統一編號'].astype(object)\n",
    "beverage.info()"
   ]
  },
  {
   "cell_type": "code",
   "execution_count": 32,
   "id": "055f40b7-c814-4d7d-a9c8-c312335361fa",
   "metadata": {},
   "outputs": [
    {
     "name": "stdout",
     "output_type": "stream",
     "text": [
      "<class 'pandas.core.frame.DataFrame'>\n",
      "Index: 0 entries\n",
      "Data columns (total 14 columns):\n",
      " #   Column  Non-Null Count  Dtype  \n",
      "---  ------  --------------  -----  \n",
      " 0   統一編號    0 non-null      object \n",
      " 1   縣市名稱_x  0 non-null      object \n",
      " 2   商業名稱    0 non-null      object \n",
      " 3   商業所在地   0 non-null      object \n",
      " 4   資本額_x   0 non-null      float64\n",
      " 5   組織型態_x  0 non-null      object \n",
      " 6   歇業日期    0 non-null      int64  \n",
      " 7   縣市名稱_y  0 non-null      object \n",
      " 8   商店名稱    0 non-null      object \n",
      " 9   資本額_y   0 non-null      float64\n",
      " 10  組織型態_y  0 non-null      object \n",
      " 11  設立日期    0 non-null      int64  \n",
      " 12  商業地址    0 non-null      object \n",
      " 13  登記狀態    0 non-null      object \n",
      "dtypes: float64(2), int64(2), object(10)\n",
      "memory usage: 0.0+ bytes\n"
     ]
    }
   ],
   "source": [
    "# 合併兩資料取交集\n",
    "beverage = pd.merge(close1310_2204,beverage,on='統一編號')\n",
    "beverage.info()"
   ]
  },
  {
   "cell_type": "code",
   "execution_count": 33,
   "id": "2cc5b1eb-ac93-4e1d-a636-fda947ee58c2",
   "metadata": {},
   "outputs": [
    {
     "data": {
      "text/html": [
       "<div>\n",
       "<style scoped>\n",
       "    .dataframe tbody tr th:only-of-type {\n",
       "        vertical-align: middle;\n",
       "    }\n",
       "\n",
       "    .dataframe tbody tr th {\n",
       "        vertical-align: top;\n",
       "    }\n",
       "\n",
       "    .dataframe thead th {\n",
       "        text-align: right;\n",
       "    }\n",
       "</style>\n",
       "<table border=\"1\" class=\"dataframe\">\n",
       "  <thead>\n",
       "    <tr style=\"text-align: right;\">\n",
       "      <th></th>\n",
       "      <th>統一編號</th>\n",
       "      <th>縣市名稱_x</th>\n",
       "      <th>商業名稱</th>\n",
       "      <th>商業所在地</th>\n",
       "      <th>資本額_x</th>\n",
       "      <th>組織型態_x</th>\n",
       "      <th>歇業日期</th>\n",
       "      <th>縣市名稱_y</th>\n",
       "      <th>商店名稱</th>\n",
       "      <th>資本額_y</th>\n",
       "      <th>組織型態_y</th>\n",
       "      <th>設立日期</th>\n",
       "      <th>商業地址</th>\n",
       "      <th>登記狀態</th>\n",
       "    </tr>\n",
       "  </thead>\n",
       "  <tbody>\n",
       "  </tbody>\n",
       "</table>\n",
       "</div>"
      ],
      "text/plain": [
       "Empty DataFrame\n",
       "Columns: [統一編號, 縣市名稱_x, 商業名稱, 商業所在地, 資本額_x, 組織型態_x, 歇業日期, 縣市名稱_y, 商店名稱, 資本額_y, 組織型態_y, 設立日期, 商業地址, 登記狀態]\n",
       "Index: []"
      ]
     },
     "execution_count": 33,
     "metadata": {},
     "output_type": "execute_result"
    }
   ],
   "source": [
    "beverage.head()"
   ]
  }
 ],
 "metadata": {
  "kernelspec": {
   "display_name": "Python 3 (ipykernel)",
   "language": "python",
   "name": "python3"
  },
  "language_info": {
   "codemirror_mode": {
    "name": "ipython",
    "version": 3
   },
   "file_extension": ".py",
   "mimetype": "text/x-python",
   "name": "python",
   "nbconvert_exporter": "python",
   "pygments_lexer": "ipython3",
   "version": "3.9.11"
  }
 },
 "nbformat": 4,
 "nbformat_minor": 5
}
